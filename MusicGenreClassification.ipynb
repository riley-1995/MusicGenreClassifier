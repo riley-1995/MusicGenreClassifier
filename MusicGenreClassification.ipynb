{
 "cells": [
  {
   "cell_type": "markdown",
   "metadata": {},
   "source": [
    "# Break Through Tech ML Foundations Final Project - Music Genre Classification"
   ]
  },
  {
   "cell_type": "markdown",
   "metadata": {
    "jp-MarkdownHeadingCollapsed": true
   },
   "source": [
    "## About This Project\n",
    "\n",
    "This project builds and compares two machine learning models (Traditional Neural Network and Convolutional Neural Network) for music genre classification. \n",
    "\n",
    "The dataset used to train the model for this project was created from the GTZAN dataset, which contains 1000 30-second .wav files, each containing a song clip. The song clips are categorized into folders by genre. This GTZAN dataset was pre-processed and exported to a .json file (data.json) in order to be used as input for the machine learning models. The pre-processing step was done in a separate jupyter notebook called 'Pre-ProcessGTZANforGenreClassification.ipynb'. This pre-processing notebook contains explanatory information about the pre-processing stage as well as information about Mel Frequency Cepstral Coefficients (MFCC's), which will be the primary input for the machine learning model.\n",
    "\n",
    "\n",
    "#### For convenience, here is a brief overview of the pre-processing stage:\n",
    "- Create an empty dictionary which will be used to hold semantic labels aka a string for each genre (\"mapping\" key), numerical labels corresponding to each genre for each audio segment (\"label\" key), and mfccs for each audio segment (\"mfcc\" key).\n",
    "- Loop through all the genre folders. For each genre, add a string of the genre to the values list that corresponds to the \"mapping\" key.\n",
    "- Within each genre folder, loop through the .wav files.\n",
    "- For each .wav file, break the song into multiple segments. Ten segments is chosen for this project. This is done to create more data.\n",
    "- Calculate MFCCs for each segment. In this case, there are 130 MFCC vectors per segment (this is determined by the number of samples per segment divided by the hop-length). Each MFCC vector within each segment contains 13 coefficients (this is determined by the parameter n_mfcc). This creates a 130 x 13 2d array for each segment.\n",
    "- Append the MFCC array to the list of values corresponding to the \"mfcc\" dictionary key\n",
    "- Append a numerical representation of the label to the list of values corresponding to the \"label\" dictionary key.\n",
    "- Exit all of the above loops and dump the dictionary into a .json file.\n",
    "\n",
    "The pre-processing notebook, the data.json file, and the GTZAN dataset can all be found in the main project folder (the same folder this jupyter notebook is in)."
   ]
  },
  {
   "cell_type": "markdown",
   "metadata": {},
   "source": [
    "## Acknowledgements\n",
    "\n",
    "This project has been created by following along with the tutorials from the first 16 videos in the Youtube series \"Deep Learning (for Audio) with Python\" by creator Velerio Velardo - The Sound of AI: https://www.youtube.com/playlist?list=PL-wATfeyAMNrtbkCNsLcpoAyBBRJZVlnf\n",
    "\n",
    "The GTZAN dataset can be found here: https://www.kaggle.com/datasets/andradaolteanu/gtzan-dataset-music-genre-classification"
   ]
  },
  {
   "cell_type": "markdown",
   "metadata": {},
   "source": [
    "#### This project follows the machine learning life cycle and implements a model to classify the genre of a given song.\n",
    "\n",
    "The machine learning lifecycle includes the following stages:\n",
    "\n",
    "1. Build Your DataFrame\n",
    "2. Define Your ML Problem\n",
    "3. Perform exploratory data analysis to understand your data.\n",
    "4. Define Your Project Plan\n",
    "5. Implement Your Project Plan:\n",
    "    * Prepare your data for your model.\n",
    "    * Fit your model to the training data and evaluate your model.\n",
    "    * Improve your model's performance."
   ]
  },
  {
   "cell_type": "markdown",
   "metadata": {},
   "source": [
    "#### Import Libraries"
   ]
  },
  {
   "cell_type": "code",
   "execution_count": 1,
   "metadata": {},
   "outputs": [],
   "source": [
    "import pandas as pd\n",
    "import numpy as np\n",
    "import os \n",
    "import matplotlib.pyplot as plt\n",
    "import seaborn as sns\n",
    "\n",
    "import librosa, librosa.display\n",
    "import json\n",
    "from sklearn.model_selection import train_test_split\n",
    "import tensorflow.keras as keras\n",
    "from keras.layers import Input\n",
    "\n",
    "os.environ[\"TF_CPP_MIN_LOG_LEVEL\"] = \"2\" # suppress info and warning messages"
   ]
  },
  {
   "cell_type": "markdown",
   "metadata": {},
   "source": [
    "## Part 1: Build Your DataFrame"
   ]
  },
  {
   "cell_type": "code",
   "execution_count": 2,
   "metadata": {},
   "outputs": [],
   "source": [
    "DATASET_PATH = os.path.join(os.getcwd(), \"Data\", \"data.json\")\n",
    "\n",
    "def load_data(dataset_path):\n",
    "    with open(dataset_path, \"r\") as fp:\n",
    "        data = json.load(fp)\n",
    "\n",
    "        # convertlists into numpy arrays\n",
    "        X = np.array(data[\"mfcc\"])\n",
    "        y = np.array(data[\"labels\"])\n",
    "        mapping = np.array(data[\"mapping\"])\n",
    "\n",
    "        return X, y, mapping\n",
    "\n",
    "if __name__ == \"__main__\":\n",
    "    X, y, mapping = load_data(DATASET_PATH)"
   ]
  },
  {
   "cell_type": "markdown",
   "metadata": {},
   "source": [
    "## Part 2: Define Your ML Problem"
   ]
  },
  {
   "cell_type": "markdown",
   "metadata": {},
   "source": [
    "I've chosen the GTZAN dataset which contains .wav files of songs and genre information. This dataset has been pre-processed to break each .wav file into 10 segments, extract MFCCs for each segment, and export MFCCs and label information for each segment into a .json file.\n",
    "I will be predicting the genre of a given song. The genre will be the label. \n",
    "This is a supervised learning multi-class classification problem.\n",
    "My features are MFCC vectors, which are commonly used for audio machine learning tasks.\n",
    "This problem is important because it can be used in music recommendation systems to offer relevant music content to consumers based on their listening history and liked songs."
   ]
  },
  {
   "cell_type": "markdown",
   "metadata": {},
   "source": [
    "## Part 3: Understand Your Data\n",
    "\n",
    "As mentioned above, the data for this model was created in the notebook 'Pre-ProcessGTZANforGenreClassification.ipynb'. For a more detailed overview and analysis of the data, refer to that notebook. The cells below will show the shape, datatype, and a preview of the features and labels."
   ]
  },
  {
   "cell_type": "code",
   "execution_count": 3,
   "metadata": {},
   "outputs": [
    {
     "name": "stdout",
     "output_type": "stream",
     "text": [
      "(9986, 130, 13)\n",
      "[[[-2.18336304e+02  1.38975708e+02  1.10363693e+01 ... -1.68071766e+01\n",
      "   -5.64757919e+00 -2.47110214e+01]\n",
      "  [-2.00653473e+02  1.35442368e+02  5.92790604e+00 ... -1.35357590e+01\n",
      "   -8.52425957e+00 -1.89409103e+01]\n",
      "  [-1.99912170e+02  1.30874451e+02 -1.45605373e+00 ... -1.98667755e+01\n",
      "   -9.98987675e+00 -8.78959942e+00]\n",
      "  ...\n",
      "  [ 3.11111469e+01  6.05689545e+01  1.95401077e+01 ... -5.87557507e+00\n",
      "   -1.29760628e+01 -3.89030170e+00]\n",
      "  [ 4.58396721e+01  6.10874710e+01  1.55057373e+01 ... -8.06866074e+00\n",
      "   -1.02450047e+01 -2.65552950e+00]\n",
      "  [ 9.01888561e+00  6.09232368e+01  7.21001339e+00 ... -2.91970992e+00\n",
      "   -5.54147625e+00  1.10607886e+00]]\n",
      "\n",
      " [[-2.47325363e+01  6.03365860e+01 -1.56957281e+00 ...  4.50840092e+00\n",
      "   -3.60409927e+00 -6.81442738e-01]\n",
      "  [ 2.96414995e+00  5.68857880e+01 -1.00340147e+01 ...  8.15439045e-01\n",
      "   -1.10899181e+01 -9.09393501e+00]\n",
      "  [-1.56709490e+01  6.03238831e+01 -1.84312744e+01 ... -3.06232715e+00\n",
      "   -1.51068182e+01 -1.83321342e+01]\n",
      "  ...\n",
      "  [-9.43076248e+01  7.04090424e+01 -6.66449547e+00 ... -1.02624550e+01\n",
      "   -1.82538795e+01 -1.53620205e+01]\n",
      "  [-9.89198837e+01  7.45571289e+01  3.76366878e+00 ... -7.92196131e+00\n",
      "   -2.02269745e+01 -6.17826080e+00]\n",
      "  [-9.43069229e+01  8.27600708e+01  1.60109463e+01 ... -1.10544357e+01\n",
      "   -2.04380226e+01  6.84720564e+00]]\n",
      "\n",
      " [[-1.05447998e+02  8.55251999e+01  1.41748047e+01 ... -1.75846596e+01\n",
      "   -8.59211349e+00 -2.14587164e+00]\n",
      "  [-1.07126419e+02  8.15815582e+01  1.06869259e+01 ... -1.45757999e+01\n",
      "   -5.63508558e+00 -7.14633894e+00]\n",
      "  [-1.33146683e+02  7.74608994e+01  9.99567413e+00 ... -1.36614952e+01\n",
      "   -1.36044073e+00 -2.05331192e+01]\n",
      "  ...\n",
      "  [-2.05105377e+02  7.42468262e+01  4.38679008e+01 ... -5.47806787e+00\n",
      "   -7.25703895e-01 -2.42287922e+00]\n",
      "  [-1.95702850e+02  8.03420029e+01  5.22243347e+01 ... -1.05012646e+01\n",
      "   -6.10560846e+00 -4.25181341e+00]\n",
      "  [-1.90341095e+02  8.26878586e+01  6.13304405e+01 ... -1.40940247e+01\n",
      "   -6.13496304e+00 -1.33634067e+00]]\n",
      "\n",
      " ...\n",
      "\n",
      " [[-1.58429855e+02  1.62375824e+02 -4.27359695e+01 ... -2.22223740e+01\n",
      "   -1.54968672e+01  1.44633293e+01]\n",
      "  [-1.38514572e+02  1.61164032e+02 -4.71330261e+01 ... -2.11475983e+01\n",
      "   -1.12279606e+01  1.20420113e+01]\n",
      "  [-1.49527740e+02  1.48584961e+02 -4.40436020e+01 ... -1.63723087e+01\n",
      "   -5.95170116e+00  1.50717430e+01]\n",
      "  ...\n",
      "  [-3.37456055e+02  1.17606491e+02 -3.13077736e+00 ...  8.68314743e+00\n",
      "   -2.71916389e+00  1.66760135e+00]\n",
      "  [-3.37482056e+02  1.13760391e+02  2.62161136e-01 ...  3.45849824e+00\n",
      "    9.64132786e-01  6.24747181e+00]\n",
      "  [-3.19893494e+02  1.10553314e+02  1.53566246e+01 ...  2.57174659e+00\n",
      "    3.01689959e+00  5.33015060e+00]]\n",
      "\n",
      " [[-3.40494324e+02  1.06861862e+02  1.95883999e+01 ...  2.60627794e+00\n",
      "    2.54991531e+00  1.90174925e+00]\n",
      "  [-3.40821960e+02  1.15993546e+02  1.85995877e-01 ...  5.14900064e+00\n",
      "   -5.58651209e-01  4.85170364e+00]\n",
      "  [-3.54603821e+02  1.09386795e+02 -1.19878998e+01 ...  8.25367069e+00\n",
      "   -2.78856301e+00  6.64331102e+00]\n",
      "  ...\n",
      "  [-3.03317352e+02  1.72586823e+02 -2.18793765e-01 ...  1.35786831e+00\n",
      "   -3.97465515e+00  1.99580598e+00]\n",
      "  [-2.76458496e+02  1.48565979e+02  4.58838749e+00 ...  8.09596777e-01\n",
      "    9.90576506e-01  2.73448443e+00]\n",
      "  [-2.39679611e+02  1.29307617e+02  1.39526510e+01 ...  7.75955200e-01\n",
      "    1.92840719e+00  3.71851254e+00]]\n",
      "\n",
      " [[-2.34260757e+02  1.29226807e+02  1.17813091e+01 ... -7.57107556e-01\n",
      "    1.89515936e+00  4.91385746e+00]\n",
      "  [-2.50806076e+02  1.36938080e+02 -6.28894806e-01 ... -6.75681651e-01\n",
      "    1.89213169e+00  1.01247311e+01]\n",
      "  [-2.83515900e+02  1.49619812e+02 -2.30991077e+01 ... -5.82120419e-01\n",
      "   -2.55827832e+00  1.11366520e+01]\n",
      "  ...\n",
      "  [-2.86489563e+02  1.62669968e+02 -6.85541534e+00 ... -9.74453068e+00\n",
      "   -8.88026810e+00 -3.38642955e+00]\n",
      "  [-2.62371826e+02  1.45983917e+02  1.17361832e+01 ... -9.57920837e+00\n",
      "   -1.01781473e+01 -6.04789066e+00]\n",
      "  [-2.20278534e+02  1.28091736e+02  2.11762123e+01 ... -9.66605568e+00\n",
      "   -8.97077370e+00 -9.48293304e+00]]]\n",
      "float64\n"
     ]
    }
   ],
   "source": [
    "print(X.shape)\n",
    "print(X)\n",
    "print(X.dtype)"
   ]
  },
  {
   "cell_type": "code",
   "execution_count": 4,
   "metadata": {},
   "outputs": [
    {
     "name": "stdout",
     "output_type": "stream",
     "text": [
      "(9986,)\n",
      "[0 0 0 ... 9 9 9]\n",
      "int64\n"
     ]
    }
   ],
   "source": [
    "print(y.shape)\n",
    "print(y)\n",
    "print(y.dtype)"
   ]
  },
  {
   "cell_type": "code",
   "execution_count": 5,
   "metadata": {},
   "outputs": [
    {
     "name": "stdout",
     "output_type": "stream",
     "text": [
      "(10,)\n",
      "['pop' 'metal' 'disco' 'blues' 'reggae' 'classical' 'rock' 'hiphop'\n",
      " 'country' 'jazz']\n",
      "<U9\n"
     ]
    }
   ],
   "source": [
    "print(mapping.shape)\n",
    "print(mapping)\n",
    "print(mapping.dtype)"
   ]
  },
  {
   "cell_type": "markdown",
   "metadata": {},
   "source": [
    "## Part 4: Define Project Plan"
   ]
  },
  {
   "cell_type": "markdown",
   "metadata": {},
   "source": [
    "The features will be MFCCs due to the nature of the problem and the intention to use a Convolutional Neural Network.\n",
    "\n",
    "The data has been prepared during the pre-processing stage which was done in the 'Pre-ProcessGTZANforGenreClassification.ipynb' notebook. Each sound clip was split into 10 segments and MFCCs were extracted for each segment. The MFCCs and corresponding labels (both numerical and mapped semantic labels) were added to a dictionary, which was then exported to a .json file.\n",
    "\n",
    "A traditional neural network will first be implemented, then compared to a Convolutional Neural Network (CNN).\n",
    "\n",
    "The models will be built, accuracy and loss will be evaluated, plots will display these metrics, then hyperparameters and techniques to reduce overfitting will be applied as seen fit."
   ]
  },
  {
   "cell_type": "markdown",
   "metadata": {},
   "source": [
    "## Part 5: Implement Project Plan"
   ]
  },
  {
   "cell_type": "markdown",
   "metadata": {},
   "source": [
    "### Build a Traditional Neural Network\n",
    "\n",
    "#### Split Into Training and Test Datasets"
   ]
  },
  {
   "cell_type": "code",
   "execution_count": 6,
   "metadata": {},
   "outputs": [],
   "source": [
    "X_train, X_test, y_train, y_test = train_test_split(X, y, test_size = 0.3, random_state=1234)"
   ]
  },
  {
   "cell_type": "markdown",
   "metadata": {},
   "source": [
    "#### Create & Define Model"
   ]
  },
  {
   "cell_type": "code",
   "execution_count": 7,
   "metadata": {},
   "outputs": [
    {
     "data": {
      "text/html": [
       "<pre style=\"white-space:pre;overflow-x:auto;line-height:normal;font-family:Menlo,'DejaVu Sans Mono',consolas,'Courier New',monospace\"><span style=\"font-weight: bold\">Model: \"sequential\"</span>\n",
       "</pre>\n"
      ],
      "text/plain": [
       "\u001b[1mModel: \"sequential\"\u001b[0m\n"
      ]
     },
     "metadata": {},
     "output_type": "display_data"
    },
    {
     "data": {
      "text/html": [
       "<pre style=\"white-space:pre;overflow-x:auto;line-height:normal;font-family:Menlo,'DejaVu Sans Mono',consolas,'Courier New',monospace\">┏━━━━━━━━━━━━━━━━━━━━━━━━━━━━━━━━━┳━━━━━━━━━━━━━━━━━━━━━━━━┳━━━━━━━━━━━━━━━┓\n",
       "┃<span style=\"font-weight: bold\"> Layer (type)                    </span>┃<span style=\"font-weight: bold\"> Output Shape           </span>┃<span style=\"font-weight: bold\">       Param # </span>┃\n",
       "┡━━━━━━━━━━━━━━━━━━━━━━━━━━━━━━━━━╇━━━━━━━━━━━━━━━━━━━━━━━━╇━━━━━━━━━━━━━━━┩\n",
       "│ flatten (<span style=\"color: #0087ff; text-decoration-color: #0087ff\">Flatten</span>)               │ (<span style=\"color: #00d7ff; text-decoration-color: #00d7ff\">None</span>, <span style=\"color: #00af00; text-decoration-color: #00af00\">1690</span>)           │             <span style=\"color: #00af00; text-decoration-color: #00af00\">0</span> │\n",
       "├─────────────────────────────────┼────────────────────────┼───────────────┤\n",
       "│ dense (<span style=\"color: #0087ff; text-decoration-color: #0087ff\">Dense</span>)                   │ (<span style=\"color: #00d7ff; text-decoration-color: #00d7ff\">None</span>, <span style=\"color: #00af00; text-decoration-color: #00af00\">512</span>)            │       <span style=\"color: #00af00; text-decoration-color: #00af00\">865,792</span> │\n",
       "├─────────────────────────────────┼────────────────────────┼───────────────┤\n",
       "│ dropout (<span style=\"color: #0087ff; text-decoration-color: #0087ff\">Dropout</span>)               │ (<span style=\"color: #00d7ff; text-decoration-color: #00d7ff\">None</span>, <span style=\"color: #00af00; text-decoration-color: #00af00\">512</span>)            │             <span style=\"color: #00af00; text-decoration-color: #00af00\">0</span> │\n",
       "├─────────────────────────────────┼────────────────────────┼───────────────┤\n",
       "│ dense_1 (<span style=\"color: #0087ff; text-decoration-color: #0087ff\">Dense</span>)                 │ (<span style=\"color: #00d7ff; text-decoration-color: #00d7ff\">None</span>, <span style=\"color: #00af00; text-decoration-color: #00af00\">256</span>)            │       <span style=\"color: #00af00; text-decoration-color: #00af00\">131,328</span> │\n",
       "├─────────────────────────────────┼────────────────────────┼───────────────┤\n",
       "│ dropout_1 (<span style=\"color: #0087ff; text-decoration-color: #0087ff\">Dropout</span>)             │ (<span style=\"color: #00d7ff; text-decoration-color: #00d7ff\">None</span>, <span style=\"color: #00af00; text-decoration-color: #00af00\">256</span>)            │             <span style=\"color: #00af00; text-decoration-color: #00af00\">0</span> │\n",
       "├─────────────────────────────────┼────────────────────────┼───────────────┤\n",
       "│ dense_2 (<span style=\"color: #0087ff; text-decoration-color: #0087ff\">Dense</span>)                 │ (<span style=\"color: #00d7ff; text-decoration-color: #00d7ff\">None</span>, <span style=\"color: #00af00; text-decoration-color: #00af00\">64</span>)             │        <span style=\"color: #00af00; text-decoration-color: #00af00\">16,448</span> │\n",
       "├─────────────────────────────────┼────────────────────────┼───────────────┤\n",
       "│ dropout_2 (<span style=\"color: #0087ff; text-decoration-color: #0087ff\">Dropout</span>)             │ (<span style=\"color: #00d7ff; text-decoration-color: #00d7ff\">None</span>, <span style=\"color: #00af00; text-decoration-color: #00af00\">64</span>)             │             <span style=\"color: #00af00; text-decoration-color: #00af00\">0</span> │\n",
       "├─────────────────────────────────┼────────────────────────┼───────────────┤\n",
       "│ dense_3 (<span style=\"color: #0087ff; text-decoration-color: #0087ff\">Dense</span>)                 │ (<span style=\"color: #00d7ff; text-decoration-color: #00d7ff\">None</span>, <span style=\"color: #00af00; text-decoration-color: #00af00\">10</span>)             │           <span style=\"color: #00af00; text-decoration-color: #00af00\">650</span> │\n",
       "└─────────────────────────────────┴────────────────────────┴───────────────┘\n",
       "</pre>\n"
      ],
      "text/plain": [
       "┏━━━━━━━━━━━━━━━━━━━━━━━━━━━━━━━━━┳━━━━━━━━━━━━━━━━━━━━━━━━┳━━━━━━━━━━━━━━━┓\n",
       "┃\u001b[1m \u001b[0m\u001b[1mLayer (type)                   \u001b[0m\u001b[1m \u001b[0m┃\u001b[1m \u001b[0m\u001b[1mOutput Shape          \u001b[0m\u001b[1m \u001b[0m┃\u001b[1m \u001b[0m\u001b[1m      Param #\u001b[0m\u001b[1m \u001b[0m┃\n",
       "┡━━━━━━━━━━━━━━━━━━━━━━━━━━━━━━━━━╇━━━━━━━━━━━━━━━━━━━━━━━━╇━━━━━━━━━━━━━━━┩\n",
       "│ flatten (\u001b[38;5;33mFlatten\u001b[0m)               │ (\u001b[38;5;45mNone\u001b[0m, \u001b[38;5;34m1690\u001b[0m)           │             \u001b[38;5;34m0\u001b[0m │\n",
       "├─────────────────────────────────┼────────────────────────┼───────────────┤\n",
       "│ dense (\u001b[38;5;33mDense\u001b[0m)                   │ (\u001b[38;5;45mNone\u001b[0m, \u001b[38;5;34m512\u001b[0m)            │       \u001b[38;5;34m865,792\u001b[0m │\n",
       "├─────────────────────────────────┼────────────────────────┼───────────────┤\n",
       "│ dropout (\u001b[38;5;33mDropout\u001b[0m)               │ (\u001b[38;5;45mNone\u001b[0m, \u001b[38;5;34m512\u001b[0m)            │             \u001b[38;5;34m0\u001b[0m │\n",
       "├─────────────────────────────────┼────────────────────────┼───────────────┤\n",
       "│ dense_1 (\u001b[38;5;33mDense\u001b[0m)                 │ (\u001b[38;5;45mNone\u001b[0m, \u001b[38;5;34m256\u001b[0m)            │       \u001b[38;5;34m131,328\u001b[0m │\n",
       "├─────────────────────────────────┼────────────────────────┼───────────────┤\n",
       "│ dropout_1 (\u001b[38;5;33mDropout\u001b[0m)             │ (\u001b[38;5;45mNone\u001b[0m, \u001b[38;5;34m256\u001b[0m)            │             \u001b[38;5;34m0\u001b[0m │\n",
       "├─────────────────────────────────┼────────────────────────┼───────────────┤\n",
       "│ dense_2 (\u001b[38;5;33mDense\u001b[0m)                 │ (\u001b[38;5;45mNone\u001b[0m, \u001b[38;5;34m64\u001b[0m)             │        \u001b[38;5;34m16,448\u001b[0m │\n",
       "├─────────────────────────────────┼────────────────────────┼───────────────┤\n",
       "│ dropout_2 (\u001b[38;5;33mDropout\u001b[0m)             │ (\u001b[38;5;45mNone\u001b[0m, \u001b[38;5;34m64\u001b[0m)             │             \u001b[38;5;34m0\u001b[0m │\n",
       "├─────────────────────────────────┼────────────────────────┼───────────────┤\n",
       "│ dense_3 (\u001b[38;5;33mDense\u001b[0m)                 │ (\u001b[38;5;45mNone\u001b[0m, \u001b[38;5;34m10\u001b[0m)             │           \u001b[38;5;34m650\u001b[0m │\n",
       "└─────────────────────────────────┴────────────────────────┴───────────────┘\n"
      ]
     },
     "metadata": {},
     "output_type": "display_data"
    },
    {
     "data": {
      "text/html": [
       "<pre style=\"white-space:pre;overflow-x:auto;line-height:normal;font-family:Menlo,'DejaVu Sans Mono',consolas,'Courier New',monospace\"><span style=\"font-weight: bold\"> Total params: </span><span style=\"color: #00af00; text-decoration-color: #00af00\">1,014,218</span> (3.87 MB)\n",
       "</pre>\n"
      ],
      "text/plain": [
       "\u001b[1m Total params: \u001b[0m\u001b[38;5;34m1,014,218\u001b[0m (3.87 MB)\n"
      ]
     },
     "metadata": {},
     "output_type": "display_data"
    },
    {
     "data": {
      "text/html": [
       "<pre style=\"white-space:pre;overflow-x:auto;line-height:normal;font-family:Menlo,'DejaVu Sans Mono',consolas,'Courier New',monospace\"><span style=\"font-weight: bold\"> Trainable params: </span><span style=\"color: #00af00; text-decoration-color: #00af00\">1,014,218</span> (3.87 MB)\n",
       "</pre>\n"
      ],
      "text/plain": [
       "\u001b[1m Trainable params: \u001b[0m\u001b[38;5;34m1,014,218\u001b[0m (3.87 MB)\n"
      ]
     },
     "metadata": {},
     "output_type": "display_data"
    },
    {
     "data": {
      "text/html": [
       "<pre style=\"white-space:pre;overflow-x:auto;line-height:normal;font-family:Menlo,'DejaVu Sans Mono',consolas,'Courier New',monospace\"><span style=\"font-weight: bold\"> Non-trainable params: </span><span style=\"color: #00af00; text-decoration-color: #00af00\">0</span> (0.00 B)\n",
       "</pre>\n"
      ],
      "text/plain": [
       "\u001b[1m Non-trainable params: \u001b[0m\u001b[38;5;34m0\u001b[0m (0.00 B)\n"
      ]
     },
     "metadata": {},
     "output_type": "display_data"
    }
   ],
   "source": [
    "# build model architecture\n",
    "\n",
    "l2reg = keras.regularizers.l2(0.001)\n",
    "\n",
    "model = keras.Sequential([\n",
    "    # input layer\n",
    "    Input(shape=(X.shape[1], X.shape[2])),\n",
    "    keras.layers.Flatten(),\n",
    "\n",
    "    # 1st hidden layer\n",
    "    keras.layers.Dense(512, activation=\"relu\", kernel_regularizer=l2reg),\n",
    "    keras.layers.Dropout(0.3),\n",
    "\n",
    "    # 2nd hidden layer\n",
    "    keras.layers.Dense(256, activation=\"relu\", kernel_regularizer=l2reg),\n",
    "    keras.layers.Dropout(0.3),\n",
    "\n",
    "    # 3rd hidden layer\n",
    "    keras.layers.Dense(64, activation=\"relu\", kernel_regularizer=l2reg),\n",
    "    keras.layers.Dropout(0.3),\n",
    "\n",
    "    # output layer\n",
    "    keras.layers.Dense(10, activation=\"softmax\")\n",
    "])\n",
    "\n",
    "# define optimizer\n",
    "optimizer = keras.optimizers.Adam(learning_rate=.0001) #Adam is similar to SGD\n",
    "\n",
    "# compile model\n",
    "model.compile(optimizer, loss=\"sparse_categorical_crossentropy\", metrics=[\"accuracy\"])\n",
    "\n",
    "# print summary\n",
    "model.summary()"
   ]
  },
  {
   "cell_type": "markdown",
   "metadata": {},
   "source": [
    "#### Train Model\n",
    "Note: The cell below may take some "
   ]
  },
  {
   "cell_type": "code",
   "execution_count": 8,
   "metadata": {
    "scrolled": true
   },
   "outputs": [
    {
     "name": "stdout",
     "output_type": "stream",
     "text": [
      "Epoch 1/100\n",
      "\u001b[1m219/219\u001b[0m \u001b[32m━━━━━━━━━━━━━━━━━━━━\u001b[0m\u001b[37m\u001b[0m \u001b[1m2s\u001b[0m 6ms/step - accuracy: 0.1317 - loss: 43.7919 - val_accuracy: 0.1762 - val_loss: 3.4801\n",
      "Epoch 2/100\n",
      "\u001b[1m219/219\u001b[0m \u001b[32m━━━━━━━━━━━━━━━━━━━━\u001b[0m\u001b[37m\u001b[0m \u001b[1m1s\u001b[0m 6ms/step - accuracy: 0.1595 - loss: 7.4375 - val_accuracy: 0.1188 - val_loss: 3.4905\n",
      "Epoch 3/100\n",
      "\u001b[1m219/219\u001b[0m \u001b[32m━━━━━━━━━━━━━━━━━━━━\u001b[0m\u001b[37m\u001b[0m \u001b[1m1s\u001b[0m 6ms/step - accuracy: 0.1344 - loss: 4.7756 - val_accuracy: 0.1168 - val_loss: 3.4926\n",
      "Epoch 4/100\n",
      "\u001b[1m219/219\u001b[0m \u001b[32m━━━━━━━━━━━━━━━━━━━━\u001b[0m\u001b[37m\u001b[0m \u001b[1m1s\u001b[0m 6ms/step - accuracy: 0.1291 - loss: 4.0040 - val_accuracy: 0.1232 - val_loss: 3.4831\n",
      "Epoch 5/100\n",
      "\u001b[1m219/219\u001b[0m \u001b[32m━━━━━━━━━━━━━━━━━━━━\u001b[0m\u001b[37m\u001b[0m \u001b[1m1s\u001b[0m 6ms/step - accuracy: 0.1466 - loss: 3.7889 - val_accuracy: 0.1375 - val_loss: 3.4606\n",
      "Epoch 6/100\n",
      "\u001b[1m219/219\u001b[0m \u001b[32m━━━━━━━━━━━━━━━━━━━━\u001b[0m\u001b[37m\u001b[0m \u001b[1m1s\u001b[0m 6ms/step - accuracy: 0.1507 - loss: 3.6639 - val_accuracy: 0.1622 - val_loss: 3.4209\n",
      "Epoch 7/100\n",
      "\u001b[1m219/219\u001b[0m \u001b[32m━━━━━━━━━━━━━━━━━━━━\u001b[0m\u001b[37m\u001b[0m \u001b[1m1s\u001b[0m 7ms/step - accuracy: 0.1484 - loss: 3.6008 - val_accuracy: 0.1916 - val_loss: 3.3698\n",
      "Epoch 8/100\n",
      "\u001b[1m219/219\u001b[0m \u001b[32m━━━━━━━━━━━━━━━━━━━━\u001b[0m\u001b[37m\u001b[0m \u001b[1m1s\u001b[0m 7ms/step - accuracy: 0.1621 - loss: 3.5093 - val_accuracy: 0.1893 - val_loss: 3.3601\n",
      "Epoch 9/100\n",
      "\u001b[1m219/219\u001b[0m \u001b[32m━━━━━━━━━━━━━━━━━━━━\u001b[0m\u001b[37m\u001b[0m \u001b[1m1s\u001b[0m 6ms/step - accuracy: 0.1744 - loss: 3.4626 - val_accuracy: 0.2223 - val_loss: 3.2862\n",
      "Epoch 10/100\n",
      "\u001b[1m219/219\u001b[0m \u001b[32m━━━━━━━━━━━━━━━━━━━━\u001b[0m\u001b[37m\u001b[0m \u001b[1m1s\u001b[0m 6ms/step - accuracy: 0.1943 - loss: 3.4074 - val_accuracy: 0.2079 - val_loss: 3.2961\n",
      "Epoch 11/100\n",
      "\u001b[1m219/219\u001b[0m \u001b[32m━━━━━━━━━━━━━━━━━━━━\u001b[0m\u001b[37m\u001b[0m \u001b[1m1s\u001b[0m 6ms/step - accuracy: 0.1789 - loss: 3.4314 - val_accuracy: 0.1956 - val_loss: 3.3190\n",
      "Epoch 12/100\n",
      "\u001b[1m219/219\u001b[0m \u001b[32m━━━━━━━━━━━━━━━━━━━━\u001b[0m\u001b[37m\u001b[0m \u001b[1m1s\u001b[0m 6ms/step - accuracy: 0.1946 - loss: 3.3699 - val_accuracy: 0.2437 - val_loss: 3.2063\n",
      "Epoch 13/100\n",
      "\u001b[1m219/219\u001b[0m \u001b[32m━━━━━━━━━━━━━━━━━━━━\u001b[0m\u001b[37m\u001b[0m \u001b[1m1s\u001b[0m 6ms/step - accuracy: 0.2089 - loss: 3.3312 - val_accuracy: 0.2119 - val_loss: 3.2655\n",
      "Epoch 14/100\n",
      "\u001b[1m219/219\u001b[0m \u001b[32m━━━━━━━━━━━━━━━━━━━━\u001b[0m\u001b[37m\u001b[0m \u001b[1m1s\u001b[0m 6ms/step - accuracy: 0.2156 - loss: 3.2928 - val_accuracy: 0.2223 - val_loss: 3.2336\n",
      "Epoch 15/100\n",
      "\u001b[1m219/219\u001b[0m \u001b[32m━━━━━━━━━━━━━━━━━━━━\u001b[0m\u001b[37m\u001b[0m \u001b[1m1s\u001b[0m 6ms/step - accuracy: 0.2207 - loss: 3.2774 - val_accuracy: 0.2480 - val_loss: 3.1598\n",
      "Epoch 16/100\n",
      "\u001b[1m219/219\u001b[0m \u001b[32m━━━━━━━━━━━━━━━━━━━━\u001b[0m\u001b[37m\u001b[0m \u001b[1m1s\u001b[0m 6ms/step - accuracy: 0.2255 - loss: 3.2672 - val_accuracy: 0.2523 - val_loss: 3.1405\n",
      "Epoch 17/100\n",
      "\u001b[1m219/219\u001b[0m \u001b[32m━━━━━━━━━━━━━━━━━━━━\u001b[0m\u001b[37m\u001b[0m \u001b[1m1s\u001b[0m 6ms/step - accuracy: 0.2185 - loss: 3.2419 - val_accuracy: 0.2370 - val_loss: 3.1582\n",
      "Epoch 18/100\n",
      "\u001b[1m219/219\u001b[0m \u001b[32m━━━━━━━━━━━━━━━━━━━━\u001b[0m\u001b[37m\u001b[0m \u001b[1m1s\u001b[0m 6ms/step - accuracy: 0.2313 - loss: 3.1852 - val_accuracy: 0.2413 - val_loss: 3.1320\n",
      "Epoch 19/100\n",
      "\u001b[1m219/219\u001b[0m \u001b[32m━━━━━━━━━━━━━━━━━━━━\u001b[0m\u001b[37m\u001b[0m \u001b[1m1s\u001b[0m 6ms/step - accuracy: 0.2254 - loss: 3.2016 - val_accuracy: 0.2630 - val_loss: 3.0833\n",
      "Epoch 20/100\n",
      "\u001b[1m219/219\u001b[0m \u001b[32m━━━━━━━━━━━━━━━━━━━━\u001b[0m\u001b[37m\u001b[0m \u001b[1m1s\u001b[0m 6ms/step - accuracy: 0.2447 - loss: 3.1648 - val_accuracy: 0.2660 - val_loss: 3.0568\n",
      "Epoch 21/100\n",
      "\u001b[1m219/219\u001b[0m \u001b[32m━━━━━━━━━━━━━━━━━━━━\u001b[0m\u001b[37m\u001b[0m \u001b[1m1s\u001b[0m 6ms/step - accuracy: 0.2386 - loss: 3.1300 - val_accuracy: 0.2573 - val_loss: 3.0497\n",
      "Epoch 22/100\n",
      "\u001b[1m219/219\u001b[0m \u001b[32m━━━━━━━━━━━━━━━━━━━━\u001b[0m\u001b[37m\u001b[0m \u001b[1m1s\u001b[0m 6ms/step - accuracy: 0.2393 - loss: 3.1217 - val_accuracy: 0.2613 - val_loss: 3.0262\n",
      "Epoch 23/100\n",
      "\u001b[1m219/219\u001b[0m \u001b[32m━━━━━━━━━━━━━━━━━━━━\u001b[0m\u001b[37m\u001b[0m \u001b[1m1s\u001b[0m 6ms/step - accuracy: 0.2544 - loss: 3.0851 - val_accuracy: 0.2667 - val_loss: 2.9963\n",
      "Epoch 24/100\n",
      "\u001b[1m219/219\u001b[0m \u001b[32m━━━━━━━━━━━━━━━━━━━━\u001b[0m\u001b[37m\u001b[0m \u001b[1m1s\u001b[0m 6ms/step - accuracy: 0.2530 - loss: 3.0533 - val_accuracy: 0.2640 - val_loss: 2.9756\n",
      "Epoch 25/100\n",
      "\u001b[1m219/219\u001b[0m \u001b[32m━━━━━━━━━━━━━━━━━━━━\u001b[0m\u001b[37m\u001b[0m \u001b[1m1s\u001b[0m 6ms/step - accuracy: 0.2629 - loss: 2.9976 - val_accuracy: 0.2527 - val_loss: 2.9995\n",
      "Epoch 26/100\n",
      "\u001b[1m219/219\u001b[0m \u001b[32m━━━━━━━━━━━━━━━━━━━━\u001b[0m\u001b[37m\u001b[0m \u001b[1m1s\u001b[0m 6ms/step - accuracy: 0.2564 - loss: 2.9936 - val_accuracy: 0.2724 - val_loss: 2.9243\n",
      "Epoch 27/100\n",
      "\u001b[1m219/219\u001b[0m \u001b[32m━━━━━━━━━━━━━━━━━━━━\u001b[0m\u001b[37m\u001b[0m \u001b[1m1s\u001b[0m 7ms/step - accuracy: 0.2531 - loss: 2.9788 - val_accuracy: 0.2697 - val_loss: 2.9204\n",
      "Epoch 28/100\n",
      "\u001b[1m219/219\u001b[0m \u001b[32m━━━━━━━━━━━━━━━━━━━━\u001b[0m\u001b[37m\u001b[0m \u001b[1m1s\u001b[0m 6ms/step - accuracy: 0.2691 - loss: 2.9218 - val_accuracy: 0.2874 - val_loss: 2.8730\n",
      "Epoch 29/100\n",
      "\u001b[1m219/219\u001b[0m \u001b[32m━━━━━━━━━━━━━━━━━━━━\u001b[0m\u001b[37m\u001b[0m \u001b[1m1s\u001b[0m 6ms/step - accuracy: 0.2677 - loss: 2.9243 - val_accuracy: 0.2804 - val_loss: 2.8512\n",
      "Epoch 30/100\n",
      "\u001b[1m219/219\u001b[0m \u001b[32m━━━━━━━━━━━━━━━━━━━━\u001b[0m\u001b[37m\u001b[0m \u001b[1m1s\u001b[0m 7ms/step - accuracy: 0.2730 - loss: 2.8902 - val_accuracy: 0.2967 - val_loss: 2.7987\n",
      "Epoch 31/100\n",
      "\u001b[1m219/219\u001b[0m \u001b[32m━━━━━━━━━━━━━━━━━━━━\u001b[0m\u001b[37m\u001b[0m \u001b[1m1s\u001b[0m 7ms/step - accuracy: 0.2788 - loss: 2.8650 - val_accuracy: 0.2874 - val_loss: 2.7995\n",
      "Epoch 32/100\n",
      "\u001b[1m219/219\u001b[0m \u001b[32m━━━━━━━━━━━━━━━━━━━━\u001b[0m\u001b[37m\u001b[0m \u001b[1m1s\u001b[0m 7ms/step - accuracy: 0.2713 - loss: 2.8485 - val_accuracy: 0.2860 - val_loss: 2.7853\n",
      "Epoch 33/100\n",
      "\u001b[1m219/219\u001b[0m \u001b[32m━━━━━━━━━━━━━━━━━━━━\u001b[0m\u001b[37m\u001b[0m \u001b[1m1s\u001b[0m 7ms/step - accuracy: 0.2872 - loss: 2.7983 - val_accuracy: 0.3034 - val_loss: 2.7260\n",
      "Epoch 34/100\n",
      "\u001b[1m219/219\u001b[0m \u001b[32m━━━━━━━━━━━━━━━━━━━━\u001b[0m\u001b[37m\u001b[0m \u001b[1m1s\u001b[0m 7ms/step - accuracy: 0.2835 - loss: 2.7711 - val_accuracy: 0.3044 - val_loss: 2.7024\n",
      "Epoch 35/100\n",
      "\u001b[1m219/219\u001b[0m \u001b[32m━━━━━━━━━━━━━━━━━━━━\u001b[0m\u001b[37m\u001b[0m \u001b[1m1s\u001b[0m 7ms/step - accuracy: 0.3057 - loss: 2.6984 - val_accuracy: 0.3144 - val_loss: 2.6780\n",
      "Epoch 36/100\n",
      "\u001b[1m219/219\u001b[0m \u001b[32m━━━━━━━━━━━━━━━━━━━━\u001b[0m\u001b[37m\u001b[0m \u001b[1m1s\u001b[0m 7ms/step - accuracy: 0.3002 - loss: 2.6886 - val_accuracy: 0.3221 - val_loss: 2.6421\n",
      "Epoch 37/100\n",
      "\u001b[1m219/219\u001b[0m \u001b[32m━━━━━━━━━━━━━━━━━━━━\u001b[0m\u001b[37m\u001b[0m \u001b[1m1s\u001b[0m 7ms/step - accuracy: 0.2968 - loss: 2.6523 - val_accuracy: 0.3318 - val_loss: 2.6265\n",
      "Epoch 38/100\n",
      "\u001b[1m219/219\u001b[0m \u001b[32m━━━━━━━━━━━━━━━━━━━━\u001b[0m\u001b[37m\u001b[0m \u001b[1m1s\u001b[0m 7ms/step - accuracy: 0.3141 - loss: 2.6363 - val_accuracy: 0.3131 - val_loss: 2.6101\n",
      "Epoch 39/100\n",
      "\u001b[1m219/219\u001b[0m \u001b[32m━━━━━━━━━━━━━━━━━━━━\u001b[0m\u001b[37m\u001b[0m \u001b[1m1s\u001b[0m 7ms/step - accuracy: 0.3133 - loss: 2.5975 - val_accuracy: 0.3284 - val_loss: 2.5639\n",
      "Epoch 40/100\n",
      "\u001b[1m219/219\u001b[0m \u001b[32m━━━━━━━━━━━━━━━━━━━━\u001b[0m\u001b[37m\u001b[0m \u001b[1m1s\u001b[0m 7ms/step - accuracy: 0.3229 - loss: 2.5576 - val_accuracy: 0.3238 - val_loss: 2.5567\n",
      "Epoch 41/100\n",
      "\u001b[1m219/219\u001b[0m \u001b[32m━━━━━━━━━━━━━━━━━━━━\u001b[0m\u001b[37m\u001b[0m \u001b[1m1s\u001b[0m 7ms/step - accuracy: 0.3169 - loss: 2.5419 - val_accuracy: 0.3331 - val_loss: 2.5245\n",
      "Epoch 42/100\n",
      "\u001b[1m219/219\u001b[0m \u001b[32m━━━━━━━━━━━━━━━━━━━━\u001b[0m\u001b[37m\u001b[0m \u001b[1m1s\u001b[0m 7ms/step - accuracy: 0.3390 - loss: 2.5055 - val_accuracy: 0.3368 - val_loss: 2.4822\n",
      "Epoch 43/100\n",
      "\u001b[1m219/219\u001b[0m \u001b[32m━━━━━━━━━━━━━━━━━━━━\u001b[0m\u001b[37m\u001b[0m \u001b[1m2s\u001b[0m 7ms/step - accuracy: 0.3246 - loss: 2.4722 - val_accuracy: 0.3555 - val_loss: 2.4480\n",
      "Epoch 44/100\n",
      "\u001b[1m219/219\u001b[0m \u001b[32m━━━━━━━━━━━━━━━━━━━━\u001b[0m\u001b[37m\u001b[0m \u001b[1m2s\u001b[0m 7ms/step - accuracy: 0.3346 - loss: 2.4330 - val_accuracy: 0.3675 - val_loss: 2.4173\n",
      "Epoch 45/100\n",
      "\u001b[1m219/219\u001b[0m \u001b[32m━━━━━━━━━━━━━━━━━━━━\u001b[0m\u001b[37m\u001b[0m \u001b[1m2s\u001b[0m 7ms/step - accuracy: 0.3452 - loss: 2.3999 - val_accuracy: 0.3581 - val_loss: 2.3980\n",
      "Epoch 46/100\n",
      "\u001b[1m219/219\u001b[0m \u001b[32m━━━━━━━━━━━━━━━━━━━━\u001b[0m\u001b[37m\u001b[0m \u001b[1m2s\u001b[0m 7ms/step - accuracy: 0.3598 - loss: 2.3742 - val_accuracy: 0.3655 - val_loss: 2.3810\n",
      "Epoch 47/100\n",
      "\u001b[1m219/219\u001b[0m \u001b[32m━━━━━━━━━━━━━━━━━━━━\u001b[0m\u001b[37m\u001b[0m \u001b[1m2s\u001b[0m 7ms/step - accuracy: 0.3434 - loss: 2.3674 - val_accuracy: 0.3658 - val_loss: 2.3663\n",
      "Epoch 48/100\n",
      "\u001b[1m219/219\u001b[0m \u001b[32m━━━━━━━━━━━━━━━━━━━━\u001b[0m\u001b[37m\u001b[0m \u001b[1m2s\u001b[0m 7ms/step - accuracy: 0.3472 - loss: 2.3422 - val_accuracy: 0.3505 - val_loss: 2.3570\n",
      "Epoch 49/100\n",
      "\u001b[1m219/219\u001b[0m \u001b[32m━━━━━━━━━━━━━━━━━━━━\u001b[0m\u001b[37m\u001b[0m \u001b[1m2s\u001b[0m 7ms/step - accuracy: 0.3551 - loss: 2.3111 - val_accuracy: 0.3712 - val_loss: 2.3095\n",
      "Epoch 50/100\n",
      "\u001b[1m219/219\u001b[0m \u001b[32m━━━━━━━━━━━━━━━━━━━━\u001b[0m\u001b[37m\u001b[0m \u001b[1m2s\u001b[0m 7ms/step - accuracy: 0.3691 - loss: 2.2808 - val_accuracy: 0.3678 - val_loss: 2.3220\n",
      "Epoch 51/100\n",
      "\u001b[1m219/219\u001b[0m \u001b[32m━━━━━━━━━━━━━━━━━━━━\u001b[0m\u001b[37m\u001b[0m \u001b[1m2s\u001b[0m 7ms/step - accuracy: 0.3778 - loss: 2.2343 - val_accuracy: 0.3712 - val_loss: 2.3054\n",
      "Epoch 52/100\n",
      "\u001b[1m219/219\u001b[0m \u001b[32m━━━━━━━━━━━━━━━━━━━━\u001b[0m\u001b[37m\u001b[0m \u001b[1m2s\u001b[0m 7ms/step - accuracy: 0.3790 - loss: 2.2196 - val_accuracy: 0.3818 - val_loss: 2.2845\n",
      "Epoch 53/100\n",
      "\u001b[1m219/219\u001b[0m \u001b[32m━━━━━━━━━━━━━━━━━━━━\u001b[0m\u001b[37m\u001b[0m \u001b[1m2s\u001b[0m 7ms/step - accuracy: 0.3818 - loss: 2.1828 - val_accuracy: 0.3755 - val_loss: 2.2593\n",
      "Epoch 54/100\n",
      "\u001b[1m219/219\u001b[0m \u001b[32m━━━━━━━━━━━━━━━━━━━━\u001b[0m\u001b[37m\u001b[0m \u001b[1m2s\u001b[0m 7ms/step - accuracy: 0.3950 - loss: 2.1583 - val_accuracy: 0.3855 - val_loss: 2.2116\n",
      "Epoch 55/100\n",
      "\u001b[1m219/219\u001b[0m \u001b[32m━━━━━━━━━━━━━━━━━━━━\u001b[0m\u001b[37m\u001b[0m \u001b[1m2s\u001b[0m 7ms/step - accuracy: 0.3870 - loss: 2.1508 - val_accuracy: 0.3688 - val_loss: 2.2320\n",
      "Epoch 56/100\n",
      "\u001b[1m219/219\u001b[0m \u001b[32m━━━━━━━━━━━━━━━━━━━━\u001b[0m\u001b[37m\u001b[0m \u001b[1m2s\u001b[0m 7ms/step - accuracy: 0.3912 - loss: 2.1308 - val_accuracy: 0.4035 - val_loss: 2.2569\n",
      "Epoch 57/100\n",
      "\u001b[1m219/219\u001b[0m \u001b[32m━━━━━━━━━━━━━━━━━━━━\u001b[0m\u001b[37m\u001b[0m \u001b[1m2s\u001b[0m 7ms/step - accuracy: 0.4031 - loss: 2.1138 - val_accuracy: 0.3868 - val_loss: 2.1808\n",
      "Epoch 58/100\n",
      "\u001b[1m219/219\u001b[0m \u001b[32m━━━━━━━━━━━━━━━━━━━━\u001b[0m\u001b[37m\u001b[0m \u001b[1m2s\u001b[0m 7ms/step - accuracy: 0.3987 - loss: 2.0775 - val_accuracy: 0.4035 - val_loss: 2.2326\n",
      "Epoch 59/100\n",
      "\u001b[1m219/219\u001b[0m \u001b[32m━━━━━━━━━━━━━━━━━━━━\u001b[0m\u001b[37m\u001b[0m \u001b[1m2s\u001b[0m 7ms/step - accuracy: 0.3935 - loss: 2.0691 - val_accuracy: 0.4015 - val_loss: 2.1597\n",
      "Epoch 60/100\n",
      "\u001b[1m219/219\u001b[0m \u001b[32m━━━━━━━━━━━━━━━━━━━━\u001b[0m\u001b[37m\u001b[0m \u001b[1m2s\u001b[0m 7ms/step - accuracy: 0.4251 - loss: 2.0140 - val_accuracy: 0.4115 - val_loss: 2.1489\n",
      "Epoch 61/100\n",
      "\u001b[1m219/219\u001b[0m \u001b[32m━━━━━━━━━━━━━━━━━━━━\u001b[0m\u001b[37m\u001b[0m \u001b[1m2s\u001b[0m 7ms/step - accuracy: 0.4186 - loss: 2.0062 - val_accuracy: 0.4209 - val_loss: 2.1033\n",
      "Epoch 62/100\n",
      "\u001b[1m219/219\u001b[0m \u001b[32m━━━━━━━━━━━━━━━━━━━━\u001b[0m\u001b[37m\u001b[0m \u001b[1m2s\u001b[0m 7ms/step - accuracy: 0.4181 - loss: 1.9765 - val_accuracy: 0.4075 - val_loss: 2.1058\n",
      "Epoch 63/100\n",
      "\u001b[1m219/219\u001b[0m \u001b[32m━━━━━━━━━━━━━━━━━━━━\u001b[0m\u001b[37m\u001b[0m \u001b[1m2s\u001b[0m 7ms/step - accuracy: 0.4351 - loss: 1.9644 - val_accuracy: 0.4055 - val_loss: 2.1274\n",
      "Epoch 64/100\n",
      "\u001b[1m219/219\u001b[0m \u001b[32m━━━━━━━━━━━━━━━━━━━━\u001b[0m\u001b[37m\u001b[0m \u001b[1m2s\u001b[0m 7ms/step - accuracy: 0.4329 - loss: 1.9577 - val_accuracy: 0.3982 - val_loss: 2.1265\n",
      "Epoch 65/100\n",
      "\u001b[1m219/219\u001b[0m \u001b[32m━━━━━━━━━━━━━━━━━━━━\u001b[0m\u001b[37m\u001b[0m \u001b[1m2s\u001b[0m 7ms/step - accuracy: 0.4320 - loss: 1.9381 - val_accuracy: 0.4242 - val_loss: 2.0566\n",
      "Epoch 66/100\n",
      "\u001b[1m219/219\u001b[0m \u001b[32m━━━━━━━━━━━━━━━━━━━━\u001b[0m\u001b[37m\u001b[0m \u001b[1m2s\u001b[0m 7ms/step - accuracy: 0.4361 - loss: 1.9191 - val_accuracy: 0.4249 - val_loss: 2.0687\n",
      "Epoch 67/100\n",
      "\u001b[1m219/219\u001b[0m \u001b[32m━━━━━━━━━━━━━━━━━━━━\u001b[0m\u001b[37m\u001b[0m \u001b[1m2s\u001b[0m 7ms/step - accuracy: 0.4618 - loss: 1.8368 - val_accuracy: 0.4242 - val_loss: 2.0459\n",
      "Epoch 68/100\n",
      "\u001b[1m219/219\u001b[0m \u001b[32m━━━━━━━━━━━━━━━━━━━━\u001b[0m\u001b[37m\u001b[0m \u001b[1m2s\u001b[0m 7ms/step - accuracy: 0.4609 - loss: 1.8388 - val_accuracy: 0.4366 - val_loss: 2.0338\n",
      "Epoch 69/100\n",
      "\u001b[1m219/219\u001b[0m \u001b[32m━━━━━━━━━━━━━━━━━━━━\u001b[0m\u001b[37m\u001b[0m \u001b[1m2s\u001b[0m 7ms/step - accuracy: 0.4761 - loss: 1.8166 - val_accuracy: 0.4359 - val_loss: 2.0049\n",
      "Epoch 70/100\n",
      "\u001b[1m219/219\u001b[0m \u001b[32m━━━━━━━━━━━━━━━━━━━━\u001b[0m\u001b[37m\u001b[0m \u001b[1m2s\u001b[0m 7ms/step - accuracy: 0.4746 - loss: 1.7680 - val_accuracy: 0.5027 - val_loss: 1.9773\n",
      "Epoch 71/100\n",
      "\u001b[1m219/219\u001b[0m \u001b[32m━━━━━━━━━━━━━━━━━━━━\u001b[0m\u001b[37m\u001b[0m \u001b[1m2s\u001b[0m 7ms/step - accuracy: 0.4862 - loss: 1.7895 - val_accuracy: 0.4927 - val_loss: 1.9585\n",
      "Epoch 72/100\n",
      "\u001b[1m219/219\u001b[0m \u001b[32m━━━━━━━━━━━━━━━━━━━━\u001b[0m\u001b[37m\u001b[0m \u001b[1m2s\u001b[0m 8ms/step - accuracy: 0.5104 - loss: 1.7453 - val_accuracy: 0.4970 - val_loss: 1.9037\n",
      "Epoch 73/100\n",
      "\u001b[1m219/219\u001b[0m \u001b[32m━━━━━━━━━━━━━━━━━━━━\u001b[0m\u001b[37m\u001b[0m \u001b[1m2s\u001b[0m 7ms/step - accuracy: 0.5220 - loss: 1.6988 - val_accuracy: 0.5113 - val_loss: 1.8474\n",
      "Epoch 74/100\n",
      "\u001b[1m219/219\u001b[0m \u001b[32m━━━━━━━━━━━━━━━━━━━━\u001b[0m\u001b[37m\u001b[0m \u001b[1m2s\u001b[0m 8ms/step - accuracy: 0.5298 - loss: 1.6781 - val_accuracy: 0.4783 - val_loss: 1.8652\n",
      "Epoch 75/100\n",
      "\u001b[1m219/219\u001b[0m \u001b[32m━━━━━━━━━━━━━━━━━━━━\u001b[0m\u001b[37m\u001b[0m \u001b[1m2s\u001b[0m 7ms/step - accuracy: 0.5350 - loss: 1.6559 - val_accuracy: 0.5040 - val_loss: 1.8790\n",
      "Epoch 76/100\n",
      "\u001b[1m219/219\u001b[0m \u001b[32m━━━━━━━━━━━━━━━━━━━━\u001b[0m\u001b[37m\u001b[0m \u001b[1m2s\u001b[0m 8ms/step - accuracy: 0.5285 - loss: 1.6540 - val_accuracy: 0.5157 - val_loss: 1.8352\n",
      "Epoch 77/100\n",
      "\u001b[1m219/219\u001b[0m \u001b[32m━━━━━━━━━━━━━━━━━━━━\u001b[0m\u001b[37m\u001b[0m \u001b[1m2s\u001b[0m 7ms/step - accuracy: 0.5509 - loss: 1.5814 - val_accuracy: 0.5260 - val_loss: 1.8231\n",
      "Epoch 78/100\n",
      "\u001b[1m219/219\u001b[0m \u001b[32m━━━━━━━━━━━━━━━━━━━━\u001b[0m\u001b[37m\u001b[0m \u001b[1m2s\u001b[0m 8ms/step - accuracy: 0.5604 - loss: 1.5847 - val_accuracy: 0.5344 - val_loss: 1.7745\n",
      "Epoch 79/100\n",
      "\u001b[1m219/219\u001b[0m \u001b[32m━━━━━━━━━━━━━━━━━━━━\u001b[0m\u001b[37m\u001b[0m \u001b[1m2s\u001b[0m 7ms/step - accuracy: 0.5690 - loss: 1.5412 - val_accuracy: 0.5260 - val_loss: 1.8078\n",
      "Epoch 80/100\n",
      "\u001b[1m219/219\u001b[0m \u001b[32m━━━━━━━━━━━━━━━━━━━━\u001b[0m\u001b[37m\u001b[0m \u001b[1m2s\u001b[0m 8ms/step - accuracy: 0.5629 - loss: 1.5447 - val_accuracy: 0.5391 - val_loss: 1.7874\n",
      "Epoch 81/100\n",
      "\u001b[1m219/219\u001b[0m \u001b[32m━━━━━━━━━━━━━━━━━━━━\u001b[0m\u001b[37m\u001b[0m \u001b[1m2s\u001b[0m 8ms/step - accuracy: 0.5630 - loss: 1.5108 - val_accuracy: 0.5284 - val_loss: 1.7807\n",
      "Epoch 82/100\n",
      "\u001b[1m219/219\u001b[0m \u001b[32m━━━━━━━━━━━━━━━━━━━━\u001b[0m\u001b[37m\u001b[0m \u001b[1m2s\u001b[0m 8ms/step - accuracy: 0.5730 - loss: 1.5050 - val_accuracy: 0.5617 - val_loss: 1.7907\n",
      "Epoch 83/100\n",
      "\u001b[1m219/219\u001b[0m \u001b[32m━━━━━━━━━━━━━━━━━━━━\u001b[0m\u001b[37m\u001b[0m \u001b[1m2s\u001b[0m 7ms/step - accuracy: 0.5798 - loss: 1.4717 - val_accuracy: 0.5574 - val_loss: 1.7594\n",
      "Epoch 84/100\n",
      "\u001b[1m219/219\u001b[0m \u001b[32m━━━━━━━━━━━━━━━━━━━━\u001b[0m\u001b[37m\u001b[0m \u001b[1m2s\u001b[0m 8ms/step - accuracy: 0.6089 - loss: 1.4101 - val_accuracy: 0.5447 - val_loss: 1.8075\n",
      "Epoch 85/100\n",
      "\u001b[1m219/219\u001b[0m \u001b[32m━━━━━━━━━━━━━━━━━━━━\u001b[0m\u001b[37m\u001b[0m \u001b[1m2s\u001b[0m 8ms/step - accuracy: 0.6062 - loss: 1.4175 - val_accuracy: 0.5587 - val_loss: 1.7632\n",
      "Epoch 86/100\n",
      "\u001b[1m219/219\u001b[0m \u001b[32m━━━━━━━━━━━━━━━━━━━━\u001b[0m\u001b[37m\u001b[0m \u001b[1m2s\u001b[0m 7ms/step - accuracy: 0.6163 - loss: 1.3929 - val_accuracy: 0.5411 - val_loss: 1.7213\n",
      "Epoch 87/100\n",
      "\u001b[1m219/219\u001b[0m \u001b[32m━━━━━━━━━━━━━━━━━━━━\u001b[0m\u001b[37m\u001b[0m \u001b[1m2s\u001b[0m 8ms/step - accuracy: 0.6052 - loss: 1.4018 - val_accuracy: 0.5681 - val_loss: 1.7377\n",
      "Epoch 88/100\n",
      "\u001b[1m219/219\u001b[0m \u001b[32m━━━━━━━━━━━━━━━━━━━━\u001b[0m\u001b[37m\u001b[0m \u001b[1m2s\u001b[0m 8ms/step - accuracy: 0.6338 - loss: 1.3352 - val_accuracy: 0.5661 - val_loss: 1.7483\n",
      "Epoch 89/100\n",
      "\u001b[1m219/219\u001b[0m \u001b[32m━━━━━━━━━━━━━━━━━━━━\u001b[0m\u001b[37m\u001b[0m \u001b[1m2s\u001b[0m 8ms/step - accuracy: 0.6479 - loss: 1.2843 - val_accuracy: 0.5584 - val_loss: 1.6994\n",
      "Epoch 90/100\n",
      "\u001b[1m219/219\u001b[0m \u001b[32m━━━━━━━━━━━━━━━━━━━━\u001b[0m\u001b[37m\u001b[0m \u001b[1m2s\u001b[0m 8ms/step - accuracy: 0.6416 - loss: 1.3065 - val_accuracy: 0.5701 - val_loss: 1.7430\n",
      "Epoch 91/100\n",
      "\u001b[1m219/219\u001b[0m \u001b[32m━━━━━━━━━━━━━━━━━━━━\u001b[0m\u001b[37m\u001b[0m \u001b[1m2s\u001b[0m 8ms/step - accuracy: 0.6423 - loss: 1.3073 - val_accuracy: 0.5577 - val_loss: 1.7687\n",
      "Epoch 92/100\n",
      "\u001b[1m219/219\u001b[0m \u001b[32m━━━━━━━━━━━━━━━━━━━━\u001b[0m\u001b[37m\u001b[0m \u001b[1m2s\u001b[0m 8ms/step - accuracy: 0.6500 - loss: 1.2946 - val_accuracy: 0.5467 - val_loss: 1.7210\n",
      "Epoch 93/100\n",
      "\u001b[1m219/219\u001b[0m \u001b[32m━━━━━━━━━━━━━━━━━━━━\u001b[0m\u001b[37m\u001b[0m \u001b[1m2s\u001b[0m 8ms/step - accuracy: 0.6578 - loss: 1.2465 - val_accuracy: 0.5754 - val_loss: 1.6825\n",
      "Epoch 94/100\n",
      "\u001b[1m219/219\u001b[0m \u001b[32m━━━━━━━━━━━━━━━━━━━━\u001b[0m\u001b[37m\u001b[0m \u001b[1m2s\u001b[0m 8ms/step - accuracy: 0.6529 - loss: 1.2560 - val_accuracy: 0.5841 - val_loss: 1.6871\n",
      "Epoch 95/100\n",
      "\u001b[1m219/219\u001b[0m \u001b[32m━━━━━━━━━━━━━━━━━━━━\u001b[0m\u001b[37m\u001b[0m \u001b[1m2s\u001b[0m 8ms/step - accuracy: 0.6754 - loss: 1.2106 - val_accuracy: 0.5871 - val_loss: 1.7101\n",
      "Epoch 96/100\n",
      "\u001b[1m219/219\u001b[0m \u001b[32m━━━━━━━━━━━━━━━━━━━━\u001b[0m\u001b[37m\u001b[0m \u001b[1m2s\u001b[0m 8ms/step - accuracy: 0.6838 - loss: 1.1944 - val_accuracy: 0.5804 - val_loss: 1.6786\n",
      "Epoch 97/100\n",
      "\u001b[1m219/219\u001b[0m \u001b[32m━━━━━━━━━━━━━━━━━━━━\u001b[0m\u001b[37m\u001b[0m \u001b[1m2s\u001b[0m 8ms/step - accuracy: 0.6919 - loss: 1.1890 - val_accuracy: 0.5854 - val_loss: 1.7861\n",
      "Epoch 98/100\n",
      "\u001b[1m219/219\u001b[0m \u001b[32m━━━━━━━━━━━━━━━━━━━━\u001b[0m\u001b[37m\u001b[0m \u001b[1m2s\u001b[0m 8ms/step - accuracy: 0.6929 - loss: 1.1548 - val_accuracy: 0.5858 - val_loss: 1.7156\n",
      "Epoch 99/100\n",
      "\u001b[1m219/219\u001b[0m \u001b[32m━━━━━━━━━━━━━━━━━━━━\u001b[0m\u001b[37m\u001b[0m \u001b[1m2s\u001b[0m 8ms/step - accuracy: 0.7015 - loss: 1.1285 - val_accuracy: 0.5844 - val_loss: 1.7271\n",
      "Epoch 100/100\n",
      "\u001b[1m219/219\u001b[0m \u001b[32m━━━━━━━━━━━━━━━━━━━━\u001b[0m\u001b[37m\u001b[0m \u001b[1m2s\u001b[0m 7ms/step - accuracy: 0.6981 - loss: 1.1548 - val_accuracy: 0.5888 - val_loss: 1.7517\n"
     ]
    }
   ],
   "source": [
    "history = model.fit(X_train, y_train, validation_data=(X_test, y_test), batch_size=32, epochs=100)"
   ]
  },
  {
   "cell_type": "markdown",
   "metadata": {},
   "source": [
    "#### Visualize Accuracy and Loss"
   ]
  },
  {
   "cell_type": "code",
   "execution_count": 9,
   "metadata": {},
   "outputs": [],
   "source": [
    "def plot_history(history):\n",
    "    fig, axs = plt.subplots(2)\n",
    "\n",
    "    # create accuracy subplot\n",
    "    axs[0].plot(history.history[\"accuracy\"], label=\"Train Accuracy\")\n",
    "    axs[0].plot(history.history[\"val_accuracy\"], label=\"Test Accuracy\")\n",
    "    axs[0].set_ylabel(\"Accuracy\")\n",
    "    axs[0].legend(loc=\"lower right\")\n",
    "    axs[0].set_title(\"Accuracy Evaluation\")\n",
    "\n",
    "    # create error subplot\n",
    "    axs[1].plot(history.history[\"loss\"], label=\"Train Error\")\n",
    "    axs[1].plot(history.history[\"val_loss\"], label=\"Test Error\")\n",
    "    axs[1].set_xlabel(\"Epoch\")\n",
    "    axs[1].set_ylabel(\"Error\")\n",
    "    axs[1].legend(loc=\"upper right\")\n",
    "    axs[1].set_title(\"Error Evaluation\")\n",
    "\n",
    "    plt.tight_layout()\n",
    "    \n",
    "    plt.show()"
   ]
  },
  {
   "cell_type": "code",
   "execution_count": 10,
   "metadata": {},
   "outputs": [
    {
     "data": {
      "image/png": "[encoded data removed]",
      "text/plain": [
       "<Figure size 640x480 with 2 Axes>"
      ]
     },
     "metadata": {},
     "output_type": "display_data"
    }
   ],
   "source": [
    "plot_history(history)"
   ]
  },
  {
   "cell_type": "markdown",
   "metadata": {},
   "source": [
    "#### Address Overfitting\n",
    "Some techniques that can be used to address overfitting:\n",
    "- Use simpler model architecture\n",
    "- Audio data augmentation (artificially increase # of training samples and/or apply transformations to audio files such as pitch shifting, time stretching, adding background noise, etc.)\n",
    "- Early stopping in training\n",
    "- Dropout (randomly drop neurons during training, typically using values for probability of dropout ranging from 0.1 to 0.5)\n",
    "- Regularization (add penalty to error function, punish large weights using either L1 or L2 regularization. For most audio ML tasks, L2 is better.)\n",
    "\n",
    "Initially, the model did not use dropout or regularization techniques. After 50 epochs, the test and training accuracy and loss were: <br>\n",
    "accuracy: 0.9575 - loss: 0.1290 - val_accuracy: 0.5838 - val_loss: 2.5119\n",
    "\n",
    "Next, dropout and regularization was added and the values were <br>\n",
    "accuracy: 0.3631 - loss: 2.3249 - val_accuracy: 0.3635 - val_loss: 2.3709\n",
    "\n",
    "Due to the shape of the performance evaluation graphs, the number of epochs was increased to 100. The evaluation metrics were: <br>\n",
    "accuracy: 0.6813 - loss: 1.1724 - val_accuracy: 0.5898 - val_loss: 1.7696\n",
    "\n",
    "Based on the shape of the evaluation plot, it appears that not much improvent on the test set is gained after about 70 epochs. Around 70 epochs is also where the model begins to overfit. At 70 epochs, the evaluation metrics were: <br>\n",
    "accuracy: 0.5430 - loss: 1.6714 - val_accuracy: 0.5350 - val_loss: 1.8201\n",
    "\n",
    "Note: Each time the code is re-run, the evaluation metrics may vary due to the random dropout.\n",
    "\n",
    "Adding dropout and regularization and adjusting the number of epochs addresses overfitting, however execution is slow and performance still is not great. Next, a Convolutional Neural Network will be built and performance with the tradional neural network will be compared to the Convolutional Neural Network. Additionally, a validation set will be used in addition to a training and test set in order to obtain a more accurate evaluation of model performance."
   ]
  },
  {
   "cell_type": "markdown",
   "metadata": {},
   "source": [
    "### Build a Convolutional Neural Network"
   ]
  },
  {
   "cell_type": "markdown",
   "metadata": {},
   "source": [
    "#### Define Function to Prepare Training, Validation, and Testing Datasets"
   ]
  },
  {
   "cell_type": "code",
   "execution_count": 11,
   "metadata": {},
   "outputs": [],
   "source": [
    "def prepare_datasets(X, y, test_size=0.25, validation_size=0.2):\n",
    "    # create train/test split\n",
    "    X_train, X_test, y_train, y_test = train_test_split(X, y, test_size=test_size, random_state=1234)\n",
    "\n",
    "    # create train/validation split\n",
    "    X_train, X_validation, y_train, y_validation = train_test_split(X_train, y_train, test_size=validation_size, random_state=1234)\n",
    "\n",
    "    # reshape 3d array to 4d array: (num_samples, 130, 13) -> (num_samples, 130, 13, 1)\n",
    "    X_train = X_train[..., np.newaxis]\n",
    "    X_validation = X_validation[..., np.newaxis]\n",
    "    X_test = X_test[..., np.newaxis]\n",
    "\n",
    "    return X_train, X_validation, X_test, y_train, y_validation, y_test"
   ]
  },
  {
   "cell_type": "markdown",
   "metadata": {},
   "source": [
    "#### Define Function to Build the CNN Model"
   ]
  },
  {
   "cell_type": "code",
   "execution_count": 12,
   "metadata": {},
   "outputs": [],
   "source": [
    "def build_cnn_model(input_shape):\n",
    "    model = keras.Sequential()\n",
    "\n",
    "    # Input layer\n",
    "    model.add(keras.layers.Input(shape=input_shape))\n",
    "    \n",
    "    # 1st convolutional layer\n",
    "    model.add(keras.layers.Conv2D(32, (3,3), activation='relu'))\n",
    "    model.add(keras.layers.MaxPool2D((3,3), strides=(2,2), padding='same'))\n",
    "    model.add(keras.layers.BatchNormalization())\n",
    "\n",
    "    # 2nd convolutional layer\n",
    "    model.add(keras.layers.Conv2D(32, (3,3), activation='relu'))\n",
    "    model.add(keras.layers.MaxPool2D((3,3), strides=(2,2), padding='same'))\n",
    "    model.add(keras.layers.BatchNormalization())\n",
    "\n",
    "    # 3rd convolutional layer\n",
    "    model.add(keras.layers.Conv2D(32, (2,2), activation='relu'))\n",
    "    model.add(keras.layers.MaxPool2D((2,2), strides=(2,2), padding='same'))\n",
    "    model.add(keras.layers.BatchNormalization())\n",
    "\n",
    "    # flatten the output and feed it into dense layer\n",
    "    model.add(keras.layers.Flatten())\n",
    "    model.add(keras.layers.Dense(64, activation='relu'))\n",
    "    model.add(keras.layers.Dropout(0.3))\n",
    "\n",
    "    # output layer\n",
    "    model.add(keras.layers.Dense(10, activation='softmax'))\n",
    "\n",
    "    return model"
   ]
  },
  {
   "cell_type": "markdown",
   "metadata": {},
   "source": [
    "#### Define Function To Make a Prediction For a Particular Example Song"
   ]
  },
  {
   "cell_type": "code",
   "execution_count": 13,
   "metadata": {},
   "outputs": [],
   "source": [
    "def predict(model, X_example, y_example, mapping):\n",
    "\n",
    "    # change shape of X_example from (130, 13, 1) to (1, 130, 13, 1)\n",
    "    X_example = X_example[np.newaxis, ...]    \n",
    "    \n",
    "    prediction = model.predict(X_example)\n",
    "\n",
    "    # prediction is a 2d array of probability values for each label ex: [ [0.1, 0.2, ...] ]\n",
    "    # extract index with max value from 2nd dimension of prediction\n",
    "    predicted_index = np.argmax(prediction, axis=1)\n",
    "\n",
    "    # get predicted and expected mapped genre labels\n",
    "    expected_mapped_genre = mapping[y_example]\n",
    "    predicted_mapped_genre = mapping[predicted_index]\n",
    "\n",
    "    print(f\"Expected index: {y_example}, Predicted index: {predicted_index}\")\n",
    "    print(f\"Expected genre: {expected_mapped_genre}, Predicted genre: {predicted_mapped_genre}\")\n",
    "    "
   ]
  },
  {
   "cell_type": "markdown",
   "metadata": {},
   "source": [
    "#### Create and Examine Training, Validation, and Testing Datasets"
   ]
  },
  {
   "cell_type": "code",
   "execution_count": 14,
   "metadata": {},
   "outputs": [],
   "source": [
    "X_train, X_validation, X_test, y_train, y_validation, y_test = prepare_datasets(X, y, test_size = 0.25, validation_size=0.2)"
   ]
  },
  {
   "cell_type": "code",
   "execution_count": 15,
   "metadata": {},
   "outputs": [
    {
     "name": "stdout",
     "output_type": "stream",
     "text": [
      "X_train -      shape: (5991, 130, 13, 1)\tdatatype: float64\n",
      "y_train -      shape: (5991,)\t\tdatatype: int64\n",
      "X_test  -      shape: (2497, 130, 13, 1)\tdatatype: float64\n",
      "y_test  -      shape: (2497,)\t\tdatatype: int64\n",
      "X_validation - shape: (1498, 130, 13, 1)\tdatatype: float64\n",
      "y_validation - shape: (1498,)\t\tdatatype: int64\n"
     ]
    }
   ],
   "source": [
    "# examine shapes of train, test, and validation datasets\n",
    "\n",
    "print(f\"X_train -      shape: {X_train.shape}\\tdatatype: {X_train.dtype}\")\n",
    "print(f\"y_train -      shape: {y_train.shape}\\t\\tdatatype: {y_train.dtype}\")\n",
    "print(f\"X_test  -      shape: {X_test.shape}\\tdatatype: {X_test.dtype}\")\n",
    "print(f\"y_test  -      shape: {y_test.shape}\\t\\tdatatype: {y_test.dtype}\")\n",
    "print(f\"X_validation - shape: {X_validation.shape}\\tdatatype: {X_validation.dtype}\")\n",
    "print(f\"y_validation - shape: {y_validation.shape}\\t\\tdatatype: {y_validation.dtype}\")"
   ]
  },
  {
   "cell_type": "markdown",
   "metadata": {},
   "source": [
    "#### Build, Compile, Train and Evaluate the CNN model"
   ]
  },
  {
   "cell_type": "code",
   "execution_count": 16,
   "metadata": {},
   "outputs": [
    {
     "name": "stdout",
     "output_type": "stream",
     "text": [
      "Epoch 1/30\n",
      "\u001b[1m188/188\u001b[0m \u001b[32m━━━━━━━━━━━━━━━━━━━━\u001b[0m\u001b[37m\u001b[0m \u001b[1m4s\u001b[0m 13ms/step - accuracy: 0.1625 - loss: 2.8012 - val_accuracy: 0.3331 - val_loss: 1.9789\n",
      "Epoch 2/30\n",
      "\u001b[1m188/188\u001b[0m \u001b[32m━━━━━━━━━━━━━━━━━━━━\u001b[0m\u001b[37m\u001b[0m \u001b[1m3s\u001b[0m 13ms/step - accuracy: 0.3175 - loss: 2.0309 - val_accuracy: 0.4139 - val_loss: 1.6592\n",
      "Epoch 3/30\n",
      "\u001b[1m188/188\u001b[0m \u001b[32m━━━━━━━━━━━━━━━━━━━━\u001b[0m\u001b[37m\u001b[0m \u001b[1m3s\u001b[0m 14ms/step - accuracy: 0.3890 - loss: 1.7528 - val_accuracy: 0.4599 - val_loss: 1.5022\n",
      "Epoch 4/30\n",
      "\u001b[1m188/188\u001b[0m \u001b[32m━━━━━━━━━━━━━━━━━━━━\u001b[0m\u001b[37m\u001b[0m \u001b[1m3s\u001b[0m 14ms/step - accuracy: 0.4381 - loss: 1.5894 - val_accuracy: 0.4907 - val_loss: 1.4024\n",
      "Epoch 5/30\n",
      "\u001b[1m188/188\u001b[0m \u001b[32m━━━━━━━━━━━━━━━━━━━━\u001b[0m\u001b[37m\u001b[0m \u001b[1m3s\u001b[0m 14ms/step - accuracy: 0.4511 - loss: 1.5399 - val_accuracy: 0.5220 - val_loss: 1.3474\n",
      "Epoch 6/30\n",
      "\u001b[1m188/188\u001b[0m \u001b[32m━━━━━━━━━━━━━━━━━━━━\u001b[0m\u001b[37m\u001b[0m \u001b[1m3s\u001b[0m 15ms/step - accuracy: 0.4898 - loss: 1.4464 - val_accuracy: 0.5340 - val_loss: 1.2951\n",
      "Epoch 7/30\n",
      "\u001b[1m188/188\u001b[0m \u001b[32m━━━━━━━━━━━━━━━━━━━━\u001b[0m\u001b[37m\u001b[0m \u001b[1m3s\u001b[0m 15ms/step - accuracy: 0.5188 - loss: 1.3623 - val_accuracy: 0.5587 - val_loss: 1.2489\n",
      "Epoch 8/30\n",
      "\u001b[1m188/188\u001b[0m \u001b[32m━━━━━━━━━━━━━━━━━━━━\u001b[0m\u001b[37m\u001b[0m \u001b[1m3s\u001b[0m 16ms/step - accuracy: 0.5405 - loss: 1.3014 - val_accuracy: 0.5621 - val_loss: 1.2121\n",
      "Epoch 9/30\n",
      "\u001b[1m188/188\u001b[0m \u001b[32m━━━━━━━━━━━━━━━━━━━━\u001b[0m\u001b[37m\u001b[0m \u001b[1m3s\u001b[0m 16ms/step - accuracy: 0.5497 - loss: 1.2689 - val_accuracy: 0.5868 - val_loss: 1.1724\n",
      "Epoch 10/30\n",
      "\u001b[1m188/188\u001b[0m \u001b[32m━━━━━━━━━━━━━━━━━━━━\u001b[0m\u001b[37m\u001b[0m \u001b[1m3s\u001b[0m 16ms/step - accuracy: 0.5785 - loss: 1.1940 - val_accuracy: 0.6075 - val_loss: 1.1278\n",
      "Epoch 11/30\n",
      "\u001b[1m188/188\u001b[0m \u001b[32m━━━━━━━━━━━━━━━━━━━━\u001b[0m\u001b[37m\u001b[0m \u001b[1m3s\u001b[0m 17ms/step - accuracy: 0.5712 - loss: 1.1795 - val_accuracy: 0.6075 - val_loss: 1.0986\n",
      "Epoch 12/30\n",
      "\u001b[1m188/188\u001b[0m \u001b[32m━━━━━━━━━━━━━━━━━━━━\u001b[0m\u001b[37m\u001b[0m \u001b[1m3s\u001b[0m 16ms/step - accuracy: 0.6000 - loss: 1.1223 - val_accuracy: 0.6308 - val_loss: 1.0680\n",
      "Epoch 13/30\n",
      "\u001b[1m188/188\u001b[0m \u001b[32m━━━━━━━━━━━━━━━━━━━━\u001b[0m\u001b[37m\u001b[0m \u001b[1m3s\u001b[0m 17ms/step - accuracy: 0.6054 - loss: 1.1026 - val_accuracy: 0.6455 - val_loss: 1.0505\n",
      "Epoch 14/30\n",
      "\u001b[1m188/188\u001b[0m \u001b[32m━━━━━━━━━━━━━━━━━━━━\u001b[0m\u001b[37m\u001b[0m \u001b[1m3s\u001b[0m 17ms/step - accuracy: 0.6262 - loss: 1.0705 - val_accuracy: 0.6302 - val_loss: 1.0616\n",
      "Epoch 15/30\n",
      "\u001b[1m188/188\u001b[0m \u001b[32m━━━━━━━━━━━━━━━━━━━━\u001b[0m\u001b[37m\u001b[0m \u001b[1m3s\u001b[0m 18ms/step - accuracy: 0.6400 - loss: 1.0248 - val_accuracy: 0.6348 - val_loss: 1.0412\n",
      "Epoch 16/30\n",
      "\u001b[1m188/188\u001b[0m \u001b[32m━━━━━━━━━━━━━━━━━━━━\u001b[0m\u001b[37m\u001b[0m \u001b[1m3s\u001b[0m 17ms/step - accuracy: 0.6430 - loss: 1.0260 - val_accuracy: 0.6435 - val_loss: 1.0046\n",
      "Epoch 17/30\n",
      "\u001b[1m188/188\u001b[0m \u001b[32m━━━━━━━━━━━━━━━━━━━━\u001b[0m\u001b[37m\u001b[0m \u001b[1m3s\u001b[0m 18ms/step - accuracy: 0.6575 - loss: 0.9596 - val_accuracy: 0.6562 - val_loss: 0.9879\n",
      "Epoch 18/30\n",
      "\u001b[1m188/188\u001b[0m \u001b[32m━━━━━━━━━━━━━━━━━━━━\u001b[0m\u001b[37m\u001b[0m \u001b[1m3s\u001b[0m 18ms/step - accuracy: 0.6598 - loss: 0.9722 - val_accuracy: 0.6629 - val_loss: 0.9647\n",
      "Epoch 19/30\n",
      "\u001b[1m188/188\u001b[0m \u001b[32m━━━━━━━━━━━━━━━━━━━━\u001b[0m\u001b[37m\u001b[0m \u001b[1m3s\u001b[0m 18ms/step - accuracy: 0.6843 - loss: 0.9150 - val_accuracy: 0.6716 - val_loss: 0.9520\n",
      "Epoch 20/30\n",
      "\u001b[1m188/188\u001b[0m \u001b[32m━━━━━━━━━━━━━━━━━━━━\u001b[0m\u001b[37m\u001b[0m \u001b[1m3s\u001b[0m 18ms/step - accuracy: 0.6813 - loss: 0.9149 - val_accuracy: 0.6682 - val_loss: 0.9608\n",
      "Epoch 21/30\n",
      "\u001b[1m188/188\u001b[0m \u001b[32m━━━━━━━━━━━━━━━━━━━━\u001b[0m\u001b[37m\u001b[0m \u001b[1m3s\u001b[0m 17ms/step - accuracy: 0.6931 - loss: 0.8622 - val_accuracy: 0.6776 - val_loss: 0.9499\n",
      "Epoch 22/30\n",
      "\u001b[1m188/188\u001b[0m \u001b[32m━━━━━━━━━━━━━━━━━━━━\u001b[0m\u001b[37m\u001b[0m \u001b[1m3s\u001b[0m 18ms/step - accuracy: 0.7021 - loss: 0.8619 - val_accuracy: 0.6722 - val_loss: 0.9388\n",
      "Epoch 23/30\n",
      "\u001b[1m188/188\u001b[0m \u001b[32m━━━━━━━━━━━━━━━━━━━━\u001b[0m\u001b[37m\u001b[0m \u001b[1m3s\u001b[0m 18ms/step - accuracy: 0.7095 - loss: 0.8307 - val_accuracy: 0.6842 - val_loss: 0.9239\n",
      "Epoch 24/30\n",
      "\u001b[1m188/188\u001b[0m \u001b[32m━━━━━━━━━━━━━━━━━━━━\u001b[0m\u001b[37m\u001b[0m \u001b[1m3s\u001b[0m 17ms/step - accuracy: 0.7177 - loss: 0.8118 - val_accuracy: 0.6896 - val_loss: 0.9155\n",
      "Epoch 25/30\n",
      "\u001b[1m188/188\u001b[0m \u001b[32m━━━━━━━━━━━━━━━━━━━━\u001b[0m\u001b[37m\u001b[0m \u001b[1m3s\u001b[0m 18ms/step - accuracy: 0.7314 - loss: 0.7712 - val_accuracy: 0.6956 - val_loss: 0.9071\n",
      "Epoch 26/30\n",
      "\u001b[1m188/188\u001b[0m \u001b[32m━━━━━━━━━━━━━━━━━━━━\u001b[0m\u001b[37m\u001b[0m \u001b[1m3s\u001b[0m 18ms/step - accuracy: 0.7279 - loss: 0.7910 - val_accuracy: 0.6916 - val_loss: 0.8857\n",
      "Epoch 27/30\n",
      "\u001b[1m188/188\u001b[0m \u001b[32m━━━━━━━━━━━━━━━━━━━━\u001b[0m\u001b[37m\u001b[0m \u001b[1m3s\u001b[0m 18ms/step - accuracy: 0.7259 - loss: 0.7941 - val_accuracy: 0.7009 - val_loss: 0.8861\n",
      "Epoch 28/30\n",
      "\u001b[1m188/188\u001b[0m \u001b[32m━━━━━━━━━━━━━━━━━━━━\u001b[0m\u001b[37m\u001b[0m \u001b[1m4s\u001b[0m 19ms/step - accuracy: 0.7405 - loss: 0.7441 - val_accuracy: 0.7029 - val_loss: 0.8823\n",
      "Epoch 29/30\n",
      "\u001b[1m188/188\u001b[0m \u001b[32m━━━━━━━━━━━━━━━━━━━━\u001b[0m\u001b[37m\u001b[0m \u001b[1m3s\u001b[0m 18ms/step - accuracy: 0.7436 - loss: 0.7350 - val_accuracy: 0.7009 - val_loss: 0.8702\n",
      "Epoch 30/30\n",
      "\u001b[1m188/188\u001b[0m \u001b[32m━━━━━━━━━━━━━━━━━━━━\u001b[0m\u001b[37m\u001b[0m \u001b[1m3s\u001b[0m 18ms/step - accuracy: 0.7309 - loss: 0.7527 - val_accuracy: 0.7043 - val_loss: 0.8729\n",
      "\u001b[1m79/79\u001b[0m \u001b[32m━━━━━━━━━━━━━━━━━━━━\u001b[0m\u001b[37m\u001b[0m \u001b[1m0s\u001b[0m 5ms/step - accuracy: 0.7298 - loss: 0.7691\n",
      "Accuracy on test set: 0.7192631363868713\n"
     ]
    }
   ],
   "source": [
    "# build the CNN model\n",
    "input_shape = (X_train.shape[1], X_train.shape[2], X_train.shape[3])\n",
    "cnn_model = build_cnn_model(input_shape)\n",
    "\n",
    "# compile the CNN model\n",
    "optimizer = keras.optimizers.Adam(learning_rate=0.0001)\n",
    "cnn_model.compile(optimizer=optimizer, loss=\"sparse_categorical_crossentropy\", metrics=['accuracy'])\n",
    "\n",
    "# train the CNN model\n",
    "cnn_history = cnn_model.fit(X_train, y_train, validation_data=(X_validation, y_validation), batch_size=32, epochs=30)\n",
    "\n",
    "# evaluate the CNN model on the test set\n",
    "test_error, test_accuracy = cnn_model.evaluate(X_test, y_test, verbose=1)\n",
    "print(f\"Accuracy on test set: {test_accuracy}\")"
   ]
  },
  {
   "cell_type": "code",
   "execution_count": 17,
   "metadata": {},
   "outputs": [
    {
     "data": {
      "image/png": "[encoded data removed]",
      "text/plain": [
       "<Figure size 640x480 with 2 Axes>"
      ]
     },
     "metadata": {},
     "output_type": "display_data"
    }
   ],
   "source": [
    "plot_history(cnn_history)"
   ]
  },
  {
   "cell_type": "markdown",
   "metadata": {},
   "source": [
    "#### Make Predictions on Specific Sample Songs"
   ]
  },
  {
   "cell_type": "code",
   "execution_count": 18,
   "metadata": {},
   "outputs": [
    {
     "name": "stdout",
     "output_type": "stream",
     "text": [
      "\u001b[1m1/1\u001b[0m \u001b[32m━━━━━━━━━━━━━━━━━━━━\u001b[0m\u001b[37m\u001b[0m \u001b[1m0s\u001b[0m 28ms/step\n",
      "Expected index: 5, Predicted index: [5]\n",
      "Expected genre: classical, Predicted genre: ['classical']\n",
      "\u001b[1m1/1\u001b[0m \u001b[32m━━━━━━━━━━━━━━━━━━━━\u001b[0m\u001b[37m\u001b[0m \u001b[1m0s\u001b[0m 9ms/step\n",
      "Expected index: 5, Predicted index: [5]\n",
      "Expected genre: classical, Predicted genre: ['classical']\n",
      "\u001b[1m1/1\u001b[0m \u001b[32m━━━━━━━━━━━━━━━━━━━━\u001b[0m\u001b[37m\u001b[0m \u001b[1m0s\u001b[0m 10ms/step\n",
      "Expected index: 9, Predicted index: [4]\n",
      "Expected genre: jazz, Predicted genre: ['reggae']\n",
      "\u001b[1m1/1\u001b[0m \u001b[32m━━━━━━━━━━━━━━━━━━━━\u001b[0m\u001b[37m\u001b[0m \u001b[1m0s\u001b[0m 9ms/step\n",
      "Expected index: 4, Predicted index: [4]\n",
      "Expected genre: reggae, Predicted genre: ['reggae']\n",
      "\u001b[1m1/1\u001b[0m \u001b[32m━━━━━━━━━━━━━━━━━━━━\u001b[0m\u001b[37m\u001b[0m \u001b[1m0s\u001b[0m 9ms/step\n",
      "Expected index: 4, Predicted index: [4]\n",
      "Expected genre: reggae, Predicted genre: ['reggae']\n"
     ]
    }
   ],
   "source": [
    "# first sample song prediction\n",
    "X_sample1 = X_test[100]\n",
    "y_sample1 = y_test[100]\n",
    "\n",
    "predict(model, X_sample1, y_sample1, mapping)\n",
    "\n",
    "# second sample song prediction\n",
    "X_sample2 = X_test[500]\n",
    "y_sample2 = y_test[500]\n",
    "\n",
    "predict(model, X_sample2, y_sample2, mapping)\n",
    "\n",
    "# third sample song prediction\n",
    "X_sample3 = X_test[1500]\n",
    "y_sample3 = y_test[1500]\n",
    "\n",
    "predict(model, X_sample3, y_sample3, mapping)\n",
    "\n",
    "# forth sample song prediction\n",
    "X_sample4 = X_test[2100]\n",
    "y_sample4 = y_test[2100]\n",
    "\n",
    "predict(model, X_sample4, y_sample4, mapping)\n",
    "\n",
    "# fifth sample song prediction\n",
    "X_sample5 = X_test[2450]\n",
    "y_sample5 = y_test[2450]\n",
    "\n",
    "predict(model, X_sample5, y_sample5, mapping)"
   ]
  },
  {
   "cell_type": "markdown",
   "metadata": {},
   "source": [
    "## Conclusion\n",
    "The Convolutional Neural Network performed better than the Tradional Neural Network for the task of music genre classification with MFCC inputs. Techniques of dropout and regularization were used to address overfitting."
   ]
  }
 ],
 "metadata": {
  "kernelspec": {
   "display_name": "Python BTT (myenv)",
   "language": "python",
   "name": "myenv"
  },
  "language_info": {
   "codemirror_mode": {
    "name": "ipython",
    "version": 3
   },
   "file_extension": ".py",
   "mimetype": "text/x-python",
   "name": "python",
   "nbconvert_exporter": "python",
   "pygments_lexer": "ipython3",
   "version": "3.12.5"
  },
  "toc": {
   "base_numbering": 1,
   "nav_menu": {},
   "number_sections": false,
   "sideBar": true,
   "skip_h1_title": false,
   "title_cell": "Table of Contents",
   "title_sidebar": "Contents",
   "toc_cell": false,
   "toc_position": {},
   "toc_section_display": true,
   "toc_window_display": false
  },
  "varInspector": {
   "cols": {
    "lenName": 16,
    "lenType": 16,
    "lenVar": 40
   },
   "kernels_config": {
    "python": {
     "delete_cmd_postfix": "",
     "delete_cmd_prefix": "del ",
     "library": "var_list.py",
     "varRefreshCmd": "print(var_dic_list())"
    },
    "r": {
     "delete_cmd_postfix": ") ",
     "delete_cmd_prefix": "rm(",
     "library": "var_list.r",
     "varRefreshCmd": "cat(var_dic_list()) "
    }
   },
   "types_to_exclude": [
    "module",
    "function",
    "builtin_function_or_method",
    "instance",
    "_Feature"
   ],
   "window_display": false
  }
 },
 "nbformat": 4,
 "nbformat_minor": 4
}
