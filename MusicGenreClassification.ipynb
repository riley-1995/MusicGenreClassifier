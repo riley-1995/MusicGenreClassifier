{
 "cells": [
  {
   "cell_type": "markdown",
   "metadata": {},
   "source": [
    "# Break Through Tech ML Foundations Final Project - Music Genre Classification"
   ]
  },
  {
   "cell_type": "markdown",
   "metadata": {
    "jp-MarkdownHeadingCollapsed": true
   },
   "source": [
    "## About This Project\n",
    "\n",
    "This project builds and compares two machine learning models (Traditional Neural Network and Convolutional Neural Network) for music genre classification. \n",
    "\n",
    "The dataset used to train the model for this project was created from the GTZAN dataset, which contains 1000 30-second .wav files, each containing a song clip. The song clips are categorized into folders by genre. This GTZAN dataset was pre-processed and exported to a .json file (data.json) in order to be used as input for the machine learning models. The pre-processing step was done in a separate jupyter notebook called 'Pre-ProcessGTZANforGenreClassification.ipynb'. This pre-processing notebook contains explanatory information about the pre-processing stage as well as information about Mel Frequency Cepstral Coefficients (MFCC's), which will be the primary input for the machine learning model.\n",
    "\n",
    "\n",
    "#### For convenience, here is a brief overview of the pre-processing stage:\n",
    "- Create an empty dictionary which will be used to hold semantic labels aka a string for each genre (\"mapping\" key), numerical labels corresponding to each genre for each audio segment (\"label\" key), and mfccs for each audio segment (\"mfcc\" key).\n",
    "- Loop through all the genre folders. For each genre, add a string of the genre to the values list that corresponds to the \"mapping\" key.\n",
    "- Within each genre folder, loop through the .wav files.\n",
    "- For each .wav file, break the song into multiple segments. Ten segments is chosen for this project. This is done to create more data.\n",
    "- Calculate MFCCs for each segment. In this case, there are 130 MFCC vectors per segment (this is determined by the number of samples per segment divided by the hop-length). Each MFCC vector within each segment contains 13 coefficients (this is determined by the parameter n_mfcc). This creates a 130 x 13 2d array for each segment.\n",
    "- Append the MFCC array to the list of values corresponding to the \"mfcc\" dictionary key\n",
    "- Append a numerical representation of the label to the list of values corresponding to the \"label\" dictionary key.\n",
    "- Exit all of the above loops and dump the dictionary into a .json file.\n",
    "\n",
    "The pre-processing notebook, the data.json file, and the GTZAN dataset can all be found in the main project folder (the same folder this jupyter notebook is in)."
   ]
  },
  {
   "cell_type": "markdown",
   "metadata": {},
   "source": [
    "## Acknowledgements\n",
    "\n",
    "This project has been created by following along with the tutorials from the first 16 videos in the Youtube series \"Deep Learning (for Audio) with Python\" by creator Velerio Velardo - The Sound of AI: https://www.youtube.com/playlist?list=PL-wATfeyAMNrtbkCNsLcpoAyBBRJZVlnf\n",
    "\n",
    "The GTZAN dataset can be found here: https://www.kaggle.com/datasets/andradaolteanu/gtzan-dataset-music-genre-classification"
   ]
  },
  {
   "cell_type": "markdown",
   "metadata": {},
   "source": [
    "#### This project follows the machine learning life cycle and implements a model to classify the genre of a given song.\n",
    "\n",
    "The machine learning lifecycle includes the following stages:\n",
    "\n",
    "1. Build Your DataFrame\n",
    "2. Define Your ML Problem\n",
    "3. Perform exploratory data analysis to understand your data.\n",
    "4. Define Your Project Plan\n",
    "5. Implement Your Project Plan:\n",
    "    * Prepare your data for your model.\n",
    "    * Fit your model to the training data and evaluate your model.\n",
    "    * Improve your model's performance."
   ]
  },
  {
   "cell_type": "markdown",
   "metadata": {},
   "source": [
    "#### Import Libraries"
   ]
  },
  {
   "cell_type": "code",
   "execution_count": 1,
   "metadata": {},
   "outputs": [],
   "source": [
    "import pandas as pd\n",
    "import numpy as np\n",
    "import os \n",
    "import matplotlib.pyplot as plt\n",
    "import seaborn as sns\n",
    "\n",
    "import librosa, librosa.display\n",
    "import json\n",
    "from sklearn.model_selection import train_test_split\n",
    "import tensorflow.keras as keras\n",
    "from keras.layers import Input\n",
    "\n",
    "os.environ[\"TF_CPP_MIN_LOG_LEVEL\"] = \"2\" # suppress info and warning messages"
   ]
  },
  {
   "cell_type": "markdown",
   "metadata": {},
   "source": [
    "## Part 1: Build Your DataFrame"
   ]
  },
  {
   "cell_type": "code",
   "execution_count": 2,
   "metadata": {},
   "outputs": [],
   "source": [
    "DATASET_PATH = os.path.join(os.getcwd(), \"data\", \"data.json\")\n",
    "\n",
    "def load_data(dataset_path):\n",
    "    with open(dataset_path, \"r\") as fp:\n",
    "        data = json.load(fp)\n",
    "\n",
    "        # convertlists into numpy arrays\n",
    "        X = np.array(data[\"mfcc\"])\n",
    "        y = np.array(data[\"labels\"])\n",
    "        mapping = np.array(data[\"mapping\"])\n",
    "\n",
    "        return X, y, mapping\n",
    "\n",
    "if __name__ == \"__main__\":\n",
    "    X, y, mapping = load_data(DATASET_PATH)"
   ]
  },
  {
   "cell_type": "markdown",
   "metadata": {},
   "source": [
    "## Part 2: Define Your ML Problem"
   ]
  },
  {
   "cell_type": "markdown",
   "metadata": {},
   "source": [
    "I've chosen the GTZAN dataset which contains .wav files of songs and genre information. This dataset has been pre-processed to break each .wav file into 10 segments, extract MFCCs for each segment, and export MFCCs and label information for each segment into a .json file.\n",
    "I will be predicting the genre of a given song. The genre will be the label. \n",
    "This is a supervised learning multi-class classification problem.\n",
    "My features are MFCC vectors, which are commonly used for audio machine learning tasks.\n",
    "This problem is important because it can be used in music recommendation systems to offer relevant music content to consumers based on their listening history and liked songs."
   ]
  },
  {
   "cell_type": "markdown",
   "metadata": {},
   "source": [
    "## Part 3: Understand Your Data\n",
    "\n",
    "As mentioned above, the data for this model was created in the notebook 'Pre-ProcessGTZANforGenreClassification.ipynb'. For a more detailed overview and analysis of the data, refer to that notebook. The cells below will show the shape, datatype, and a preview of the features and labels."
   ]
  },
  {
   "cell_type": "code",
   "execution_count": 3,
   "metadata": {},
   "outputs": [
    {
     "name": "stdout",
     "output_type": "stream",
     "text": [
      "(9986, 130, 13)\n",
      "[[[-2.18336304e+02  1.38975708e+02  1.10363693e+01 ... -1.68071766e+01\n",
      "   -5.64757919e+00 -2.47110214e+01]\n",
      "  [-2.00653473e+02  1.35442368e+02  5.92790651e+00 ... -1.35357590e+01\n",
      "   -8.52425957e+00 -1.89409122e+01]\n",
      "  [-1.99912170e+02  1.30874451e+02 -1.45605373e+00 ... -1.98667755e+01\n",
      "   -9.98987675e+00 -8.78959942e+00]\n",
      "  ...\n",
      "  [ 3.11111469e+01  6.05689545e+01  1.95401077e+01 ... -5.87557507e+00\n",
      "   -1.29760647e+01 -3.89030123e+00]\n",
      "  [ 4.58396721e+01  6.10874710e+01  1.55057373e+01 ... -8.06866074e+00\n",
      "   -1.02450047e+01 -2.65552950e+00]\n",
      "  [ 9.01888561e+00  6.09232368e+01  7.21001339e+00 ... -2.91970992e+00\n",
      "   -5.54147625e+00  1.10607886e+00]]\n",
      "\n",
      " [[-2.47325363e+01  6.03365860e+01 -1.56957281e+00 ...  4.50840092e+00\n",
      "   -3.60409904e+00 -6.81442976e-01]\n",
      "  [ 2.96415043e+00  5.68857880e+01 -1.00340157e+01 ...  8.15438926e-01\n",
      "   -1.10899181e+01 -9.09393501e+00]\n",
      "  [-1.56709490e+01  6.03238831e+01 -1.84312744e+01 ... -3.06232715e+00\n",
      "   -1.51068182e+01 -1.83321342e+01]\n",
      "  ...\n",
      "  [-9.43076248e+01  7.04090424e+01 -6.66449547e+00 ... -1.02624550e+01\n",
      "   -1.82538795e+01 -1.53620205e+01]\n",
      "  [-9.89198837e+01  7.45571289e+01  3.76366878e+00 ... -7.92196131e+00\n",
      "   -2.02269745e+01 -6.17826080e+00]\n",
      "  [-9.43069229e+01  8.27600708e+01  1.60109463e+01 ... -1.10544357e+01\n",
      "   -2.04380226e+01  6.84720564e+00]]\n",
      "\n",
      " [[-1.05447998e+02  8.55251999e+01  1.41748047e+01 ... -1.75846596e+01\n",
      "   -8.59211349e+00 -2.14587164e+00]\n",
      "  [-1.07126419e+02  8.15815582e+01  1.06869259e+01 ... -1.45757999e+01\n",
      "   -5.63508558e+00 -7.14633894e+00]\n",
      "  [-1.33146683e+02  7.74609070e+01  9.99567413e+00 ... -1.36614952e+01\n",
      "   -1.36044049e+00 -2.05331192e+01]\n",
      "  ...\n",
      "  [-2.05105377e+02  7.42468262e+01  4.38679008e+01 ... -5.47806787e+00\n",
      "   -7.25704074e-01 -2.42287922e+00]\n",
      "  [-1.95702850e+02  8.03420029e+01  5.22243347e+01 ... -1.05012646e+01\n",
      "   -6.10560846e+00 -4.25181341e+00]\n",
      "  [-1.90341095e+02  8.26878510e+01  6.13304405e+01 ... -1.40940266e+01\n",
      "   -6.13496304e+00 -1.33634079e+00]]\n",
      "\n",
      " ...\n",
      "\n",
      " [[-1.58429855e+02  1.62375824e+02 -4.27359695e+01 ... -2.22223740e+01\n",
      "   -1.54968672e+01  1.44633293e+01]\n",
      "  [-1.38514572e+02  1.61164032e+02 -4.71330261e+01 ... -2.11475983e+01\n",
      "   -1.12279606e+01  1.20420113e+01]\n",
      "  [-1.49527740e+02  1.48584961e+02 -4.40436020e+01 ... -1.63723087e+01\n",
      "   -5.95170116e+00  1.50717430e+01]\n",
      "  ...\n",
      "  [-3.37456055e+02  1.17606491e+02 -3.13077736e+00 ...  8.68314743e+00\n",
      "   -2.71916389e+00  1.66760135e+00]\n",
      "  [-3.37482056e+02  1.13760391e+02  2.62161136e-01 ...  3.45849824e+00\n",
      "    9.64132786e-01  6.24747181e+00]\n",
      "  [-3.19893494e+02  1.10553314e+02  1.53566246e+01 ...  2.57174659e+00\n",
      "    3.01689959e+00  5.33015060e+00]]\n",
      "\n",
      " [[-3.40494324e+02  1.06861862e+02  1.95883999e+01 ...  2.60627794e+00\n",
      "    2.54991531e+00  1.90174925e+00]\n",
      "  [-3.40821960e+02  1.15993546e+02  1.85995877e-01 ...  5.14900064e+00\n",
      "   -5.58651209e-01  4.85170364e+00]\n",
      "  [-3.54603821e+02  1.09386795e+02 -1.19878998e+01 ...  8.25367069e+00\n",
      "   -2.78856301e+00  6.64331102e+00]\n",
      "  ...\n",
      "  [-3.03317352e+02  1.72586823e+02 -2.18793511e-01 ...  1.35786819e+00\n",
      "   -3.97465491e+00  1.99580622e+00]\n",
      "  [-2.76458496e+02  1.48565979e+02  4.58838749e+00 ...  8.09596777e-01\n",
      "    9.90576506e-01  2.73448443e+00]\n",
      "  [-2.39679611e+02  1.29307617e+02  1.39526510e+01 ...  7.75955200e-01\n",
      "    1.92840719e+00  3.71851254e+00]]\n",
      "\n",
      " [[-2.34260757e+02  1.29226807e+02  1.17813091e+01 ... -7.57107556e-01\n",
      "    1.89515936e+00  4.91385746e+00]\n",
      "  [-2.50806076e+02  1.36938080e+02 -6.28894806e-01 ... -6.75681651e-01\n",
      "    1.89213169e+00  1.01247311e+01]\n",
      "  [-2.83515900e+02  1.49619812e+02 -2.30991077e+01 ... -5.82120419e-01\n",
      "   -2.55827832e+00  1.11366520e+01]\n",
      "  ...\n",
      "  [-2.86489563e+02  1.62669968e+02 -6.85541534e+00 ... -9.74453068e+00\n",
      "   -8.88026810e+00 -3.38642955e+00]\n",
      "  [-2.62371826e+02  1.45983917e+02  1.17361832e+01 ... -9.57920647e+00\n",
      "   -1.01781473e+01 -6.04789209e+00]\n",
      "  [-2.20278534e+02  1.28091736e+02  2.11762123e+01 ... -9.66605568e+00\n",
      "   -8.97077370e+00 -9.48293304e+00]]]\n",
      "float64\n"
     ]
    }
   ],
   "source": [
    "print(X.shape)\n",
    "print(X)\n",
    "print(X.dtype)"
   ]
  },
  {
   "cell_type": "code",
   "execution_count": 4,
   "metadata": {},
   "outputs": [
    {
     "name": "stdout",
     "output_type": "stream",
     "text": [
      "(9986,)\n",
      "[0 0 0 ... 9 9 9]\n",
      "int64\n"
     ]
    }
   ],
   "source": [
    "print(y.shape)\n",
    "print(y)\n",
    "print(y.dtype)"
   ]
  },
  {
   "cell_type": "code",
   "execution_count": 5,
   "metadata": {},
   "outputs": [
    {
     "name": "stdout",
     "output_type": "stream",
     "text": [
      "(10,)\n",
      "['pop' 'metal' 'disco' 'blues' 'reggae' 'classical' 'rock' 'hiphop'\n",
      " 'country' 'jazz']\n",
      "<U9\n"
     ]
    }
   ],
   "source": [
    "print(mapping.shape)\n",
    "print(mapping)\n",
    "print(mapping.dtype)"
   ]
  },
  {
   "cell_type": "markdown",
   "metadata": {},
   "source": [
    "## Part 4: Define Project Plan"
   ]
  },
  {
   "cell_type": "markdown",
   "metadata": {},
   "source": [
    "The features will be MFCCs due to the nature of the problem and the intention to use a Convolutional Neural Network.\n",
    "\n",
    "The data has been prepared during the pre-processing stage which was done in the 'Pre-ProcessGTZANforGenreClassification.ipynb' notebook. Each sound clip was split into 10 segments and MFCCs were extracted for each segment. The MFCCs and corresponding labels (both numerical and mapped semantic labels) were added to a dictionary, which was then exported to a .json file.\n",
    "\n",
    "A traditional neural network will first be implemented, then compared to a Convolutional Neural Network (CNN).\n",
    "\n",
    "The models will be built, accuracy and loss will be evaluated, plots will display these metrics, then hyperparameters and techniques to reduce overfitting will be applied as seen fit."
   ]
  },
  {
   "cell_type": "markdown",
   "metadata": {},
   "source": [
    "## Part 5: Implement Project Plan"
   ]
  },
  {
   "cell_type": "markdown",
   "metadata": {},
   "source": [
    "### Build a Traditional Neural Network\n",
    "\n",
    "#### Split Into Training and Test Datasets"
   ]
  },
  {
   "cell_type": "code",
   "execution_count": 6,
   "metadata": {},
   "outputs": [],
   "source": [
    "X_train, X_test, y_train, y_test = train_test_split(X, y, test_size = 0.3, random_state=1234)"
   ]
  },
  {
   "cell_type": "markdown",
   "metadata": {},
   "source": [
    "#### Create & Define Model"
   ]
  },
  {
   "cell_type": "code",
   "execution_count": 7,
   "metadata": {},
   "outputs": [
    {
     "data": {
      "text/html": [
       "<pre style=\"white-space:pre;overflow-x:auto;line-height:normal;font-family:Menlo,'DejaVu Sans Mono',consolas,'Courier New',monospace\"><span style=\"font-weight: bold\">Model: \"sequential\"</span>\n",
       "</pre>\n"
      ],
      "text/plain": [
       "\u001b[1mModel: \"sequential\"\u001b[0m\n"
      ]
     },
     "metadata": {},
     "output_type": "display_data"
    },
    {
     "data": {
      "text/html": [
       "<pre style=\"white-space:pre;overflow-x:auto;line-height:normal;font-family:Menlo,'DejaVu Sans Mono',consolas,'Courier New',monospace\">┏━━━━━━━━━━━━━━━━━━━━━━━━━━━━━━━━━┳━━━━━━━━━━━━━━━━━━━━━━━━┳━━━━━━━━━━━━━━━┓\n",
       "┃<span style=\"font-weight: bold\"> Layer (type)                    </span>┃<span style=\"font-weight: bold\"> Output Shape           </span>┃<span style=\"font-weight: bold\">       Param # </span>┃\n",
       "┡━━━━━━━━━━━━━━━━━━━━━━━━━━━━━━━━━╇━━━━━━━━━━━━━━━━━━━━━━━━╇━━━━━━━━━━━━━━━┩\n",
       "│ flatten (<span style=\"color: #0087ff; text-decoration-color: #0087ff\">Flatten</span>)               │ (<span style=\"color: #00d7ff; text-decoration-color: #00d7ff\">None</span>, <span style=\"color: #00af00; text-decoration-color: #00af00\">1690</span>)           │             <span style=\"color: #00af00; text-decoration-color: #00af00\">0</span> │\n",
       "├─────────────────────────────────┼────────────────────────┼───────────────┤\n",
       "│ dense (<span style=\"color: #0087ff; text-decoration-color: #0087ff\">Dense</span>)                   │ (<span style=\"color: #00d7ff; text-decoration-color: #00d7ff\">None</span>, <span style=\"color: #00af00; text-decoration-color: #00af00\">512</span>)            │       <span style=\"color: #00af00; text-decoration-color: #00af00\">865,792</span> │\n",
       "├─────────────────────────────────┼────────────────────────┼───────────────┤\n",
       "│ dropout (<span style=\"color: #0087ff; text-decoration-color: #0087ff\">Dropout</span>)               │ (<span style=\"color: #00d7ff; text-decoration-color: #00d7ff\">None</span>, <span style=\"color: #00af00; text-decoration-color: #00af00\">512</span>)            │             <span style=\"color: #00af00; text-decoration-color: #00af00\">0</span> │\n",
       "├─────────────────────────────────┼────────────────────────┼───────────────┤\n",
       "│ dense_1 (<span style=\"color: #0087ff; text-decoration-color: #0087ff\">Dense</span>)                 │ (<span style=\"color: #00d7ff; text-decoration-color: #00d7ff\">None</span>, <span style=\"color: #00af00; text-decoration-color: #00af00\">256</span>)            │       <span style=\"color: #00af00; text-decoration-color: #00af00\">131,328</span> │\n",
       "├─────────────────────────────────┼────────────────────────┼───────────────┤\n",
       "│ dropout_1 (<span style=\"color: #0087ff; text-decoration-color: #0087ff\">Dropout</span>)             │ (<span style=\"color: #00d7ff; text-decoration-color: #00d7ff\">None</span>, <span style=\"color: #00af00; text-decoration-color: #00af00\">256</span>)            │             <span style=\"color: #00af00; text-decoration-color: #00af00\">0</span> │\n",
       "├─────────────────────────────────┼────────────────────────┼───────────────┤\n",
       "│ dense_2 (<span style=\"color: #0087ff; text-decoration-color: #0087ff\">Dense</span>)                 │ (<span style=\"color: #00d7ff; text-decoration-color: #00d7ff\">None</span>, <span style=\"color: #00af00; text-decoration-color: #00af00\">64</span>)             │        <span style=\"color: #00af00; text-decoration-color: #00af00\">16,448</span> │\n",
       "├─────────────────────────────────┼────────────────────────┼───────────────┤\n",
       "│ dropout_2 (<span style=\"color: #0087ff; text-decoration-color: #0087ff\">Dropout</span>)             │ (<span style=\"color: #00d7ff; text-decoration-color: #00d7ff\">None</span>, <span style=\"color: #00af00; text-decoration-color: #00af00\">64</span>)             │             <span style=\"color: #00af00; text-decoration-color: #00af00\">0</span> │\n",
       "├─────────────────────────────────┼────────────────────────┼───────────────┤\n",
       "│ dense_3 (<span style=\"color: #0087ff; text-decoration-color: #0087ff\">Dense</span>)                 │ (<span style=\"color: #00d7ff; text-decoration-color: #00d7ff\">None</span>, <span style=\"color: #00af00; text-decoration-color: #00af00\">10</span>)             │           <span style=\"color: #00af00; text-decoration-color: #00af00\">650</span> │\n",
       "└─────────────────────────────────┴────────────────────────┴───────────────┘\n",
       "</pre>\n"
      ],
      "text/plain": [
       "┏━━━━━━━━━━━━━━━━━━━━━━━━━━━━━━━━━┳━━━━━━━━━━━━━━━━━━━━━━━━┳━━━━━━━━━━━━━━━┓\n",
       "┃\u001b[1m \u001b[0m\u001b[1mLayer (type)                   \u001b[0m\u001b[1m \u001b[0m┃\u001b[1m \u001b[0m\u001b[1mOutput Shape          \u001b[0m\u001b[1m \u001b[0m┃\u001b[1m \u001b[0m\u001b[1m      Param #\u001b[0m\u001b[1m \u001b[0m┃\n",
       "┡━━━━━━━━━━━━━━━━━━━━━━━━━━━━━━━━━╇━━━━━━━━━━━━━━━━━━━━━━━━╇━━━━━━━━━━━━━━━┩\n",
       "│ flatten (\u001b[38;5;33mFlatten\u001b[0m)               │ (\u001b[38;5;45mNone\u001b[0m, \u001b[38;5;34m1690\u001b[0m)           │             \u001b[38;5;34m0\u001b[0m │\n",
       "├─────────────────────────────────┼────────────────────────┼───────────────┤\n",
       "│ dense (\u001b[38;5;33mDense\u001b[0m)                   │ (\u001b[38;5;45mNone\u001b[0m, \u001b[38;5;34m512\u001b[0m)            │       \u001b[38;5;34m865,792\u001b[0m │\n",
       "├─────────────────────────────────┼────────────────────────┼───────────────┤\n",
       "│ dropout (\u001b[38;5;33mDropout\u001b[0m)               │ (\u001b[38;5;45mNone\u001b[0m, \u001b[38;5;34m512\u001b[0m)            │             \u001b[38;5;34m0\u001b[0m │\n",
       "├─────────────────────────────────┼────────────────────────┼───────────────┤\n",
       "│ dense_1 (\u001b[38;5;33mDense\u001b[0m)                 │ (\u001b[38;5;45mNone\u001b[0m, \u001b[38;5;34m256\u001b[0m)            │       \u001b[38;5;34m131,328\u001b[0m │\n",
       "├─────────────────────────────────┼────────────────────────┼───────────────┤\n",
       "│ dropout_1 (\u001b[38;5;33mDropout\u001b[0m)             │ (\u001b[38;5;45mNone\u001b[0m, \u001b[38;5;34m256\u001b[0m)            │             \u001b[38;5;34m0\u001b[0m │\n",
       "├─────────────────────────────────┼────────────────────────┼───────────────┤\n",
       "│ dense_2 (\u001b[38;5;33mDense\u001b[0m)                 │ (\u001b[38;5;45mNone\u001b[0m, \u001b[38;5;34m64\u001b[0m)             │        \u001b[38;5;34m16,448\u001b[0m │\n",
       "├─────────────────────────────────┼────────────────────────┼───────────────┤\n",
       "│ dropout_2 (\u001b[38;5;33mDropout\u001b[0m)             │ (\u001b[38;5;45mNone\u001b[0m, \u001b[38;5;34m64\u001b[0m)             │             \u001b[38;5;34m0\u001b[0m │\n",
       "├─────────────────────────────────┼────────────────────────┼───────────────┤\n",
       "│ dense_3 (\u001b[38;5;33mDense\u001b[0m)                 │ (\u001b[38;5;45mNone\u001b[0m, \u001b[38;5;34m10\u001b[0m)             │           \u001b[38;5;34m650\u001b[0m │\n",
       "└─────────────────────────────────┴────────────────────────┴───────────────┘\n"
      ]
     },
     "metadata": {},
     "output_type": "display_data"
    },
    {
     "data": {
      "text/html": [
       "<pre style=\"white-space:pre;overflow-x:auto;line-height:normal;font-family:Menlo,'DejaVu Sans Mono',consolas,'Courier New',monospace\"><span style=\"font-weight: bold\"> Total params: </span><span style=\"color: #00af00; text-decoration-color: #00af00\">1,014,218</span> (3.87 MB)\n",
       "</pre>\n"
      ],
      "text/plain": [
       "\u001b[1m Total params: \u001b[0m\u001b[38;5;34m1,014,218\u001b[0m (3.87 MB)\n"
      ]
     },
     "metadata": {},
     "output_type": "display_data"
    },
    {
     "data": {
      "text/html": [
       "<pre style=\"white-space:pre;overflow-x:auto;line-height:normal;font-family:Menlo,'DejaVu Sans Mono',consolas,'Courier New',monospace\"><span style=\"font-weight: bold\"> Trainable params: </span><span style=\"color: #00af00; text-decoration-color: #00af00\">1,014,218</span> (3.87 MB)\n",
       "</pre>\n"
      ],
      "text/plain": [
       "\u001b[1m Trainable params: \u001b[0m\u001b[38;5;34m1,014,218\u001b[0m (3.87 MB)\n"
      ]
     },
     "metadata": {},
     "output_type": "display_data"
    },
    {
     "data": {
      "text/html": [
       "<pre style=\"white-space:pre;overflow-x:auto;line-height:normal;font-family:Menlo,'DejaVu Sans Mono',consolas,'Courier New',monospace\"><span style=\"font-weight: bold\"> Non-trainable params: </span><span style=\"color: #00af00; text-decoration-color: #00af00\">0</span> (0.00 B)\n",
       "</pre>\n"
      ],
      "text/plain": [
       "\u001b[1m Non-trainable params: \u001b[0m\u001b[38;5;34m0\u001b[0m (0.00 B)\n"
      ]
     },
     "metadata": {},
     "output_type": "display_data"
    }
   ],
   "source": [
    "# build model architecture\n",
    "\n",
    "l2reg = keras.regularizers.l2(0.001)\n",
    "\n",
    "model = keras.Sequential([\n",
    "    # input layer\n",
    "    Input(shape=(X.shape[1], X.shape[2])),\n",
    "    keras.layers.Flatten(),\n",
    "\n",
    "    # 1st hidden layer\n",
    "    keras.layers.Dense(512, activation=\"relu\", kernel_regularizer=l2reg),\n",
    "    keras.layers.Dropout(0.3),\n",
    "\n",
    "    # 2nd hidden layer\n",
    "    keras.layers.Dense(256, activation=\"relu\", kernel_regularizer=l2reg),\n",
    "    keras.layers.Dropout(0.3),\n",
    "\n",
    "    # 3rd hidden layer\n",
    "    keras.layers.Dense(64, activation=\"relu\", kernel_regularizer=l2reg),\n",
    "    keras.layers.Dropout(0.3),\n",
    "\n",
    "    # output layer\n",
    "    keras.layers.Dense(10, activation=\"softmax\")\n",
    "])\n",
    "\n",
    "# define optimizer\n",
    "optimizer = keras.optimizers.Adam(learning_rate=.0001) #Adam is similar to SGD\n",
    "\n",
    "# compile model\n",
    "model.compile(optimizer, loss=\"sparse_categorical_crossentropy\", metrics=[\"accuracy\"])\n",
    "\n",
    "# print summary\n",
    "model.summary()"
   ]
  },
  {
   "cell_type": "markdown",
   "metadata": {},
   "source": [
    "#### Train Model\n",
    "Note: The cell below may take some "
   ]
  },
  {
   "cell_type": "code",
   "execution_count": 8,
   "metadata": {
    "scrolled": true
   },
   "outputs": [
    {
     "name": "stdout",
     "output_type": "stream",
     "text": [
      "Epoch 1/100\n",
      "\u001b[1m219/219\u001b[0m \u001b[32m━━━━━━━━━━━━━━━━━━━━\u001b[0m\u001b[37m\u001b[0m \u001b[1m2s\u001b[0m 6ms/step - accuracy: 0.1380 - loss: 41.8912 - val_accuracy: 0.1612 - val_loss: 3.5713\n",
      "Epoch 2/100\n",
      "\u001b[1m219/219\u001b[0m \u001b[32m━━━━━━━━━━━━━━━━━━━━\u001b[0m\u001b[37m\u001b[0m \u001b[1m1s\u001b[0m 6ms/step - accuracy: 0.1567 - loss: 7.6250 - val_accuracy: 0.1268 - val_loss: 3.4715\n",
      "Epoch 3/100\n",
      "\u001b[1m219/219\u001b[0m \u001b[32m━━━━━━━━━━━━━━━━━━━━\u001b[0m\u001b[37m\u001b[0m \u001b[1m1s\u001b[0m 6ms/step - accuracy: 0.1562 - loss: 4.6749 - val_accuracy: 0.1415 - val_loss: 3.4497\n",
      "Epoch 4/100\n",
      "\u001b[1m219/219\u001b[0m \u001b[32m━━━━━━━━━━━━━━━━━━━━\u001b[0m\u001b[37m\u001b[0m \u001b[1m1s\u001b[0m 6ms/step - accuracy: 0.1414 - loss: 4.0021 - val_accuracy: 0.1308 - val_loss: 3.4585\n",
      "Epoch 5/100\n",
      "\u001b[1m219/219\u001b[0m \u001b[32m━━━━━━━━━━━━━━━━━━━━\u001b[0m\u001b[37m\u001b[0m \u001b[1m1s\u001b[0m 6ms/step - accuracy: 0.1432 - loss: 3.8003 - val_accuracy: 0.1342 - val_loss: 3.4445\n",
      "Epoch 6/100\n",
      "\u001b[1m219/219\u001b[0m \u001b[32m━━━━━━━━━━━━━━━━━━━━\u001b[0m\u001b[37m\u001b[0m \u001b[1m1s\u001b[0m 6ms/step - accuracy: 0.1429 - loss: 3.6231 - val_accuracy: 0.1455 - val_loss: 3.4141\n",
      "Epoch 7/100\n",
      "\u001b[1m219/219\u001b[0m \u001b[32m━━━━━━━━━━━━━━━━━━━━\u001b[0m\u001b[37m\u001b[0m \u001b[1m1s\u001b[0m 6ms/step - accuracy: 0.1497 - loss: 3.5608 - val_accuracy: 0.1559 - val_loss: 3.4018\n",
      "Epoch 8/100\n",
      "\u001b[1m219/219\u001b[0m \u001b[32m━━━━━━━━━━━━━━━━━━━━\u001b[0m\u001b[37m\u001b[0m \u001b[1m1s\u001b[0m 7ms/step - accuracy: 0.1533 - loss: 3.4943 - val_accuracy: 0.1659 - val_loss: 3.3711\n",
      "Epoch 9/100\n",
      "\u001b[1m219/219\u001b[0m \u001b[32m━━━━━━━━━━━━━━━━━━━━\u001b[0m\u001b[37m\u001b[0m \u001b[1m1s\u001b[0m 7ms/step - accuracy: 0.1511 - loss: 3.4940 - val_accuracy: 0.1883 - val_loss: 3.3439\n",
      "Epoch 10/100\n",
      "\u001b[1m219/219\u001b[0m \u001b[32m━━━━━━━━━━━━━━━━━━━━\u001b[0m\u001b[37m\u001b[0m \u001b[1m1s\u001b[0m 7ms/step - accuracy: 0.1965 - loss: 3.4333 - val_accuracy: 0.1986 - val_loss: 3.3184\n",
      "Epoch 11/100\n",
      "\u001b[1m219/219\u001b[0m \u001b[32m━━━━━━━━━━━━━━━━━━━━\u001b[0m\u001b[37m\u001b[0m \u001b[1m1s\u001b[0m 6ms/step - accuracy: 0.2068 - loss: 3.4041 - val_accuracy: 0.2006 - val_loss: 3.3037\n",
      "Epoch 12/100\n",
      "\u001b[1m219/219\u001b[0m \u001b[32m━━━━━━━━━━━━━━━━━━━━\u001b[0m\u001b[37m\u001b[0m \u001b[1m1s\u001b[0m 7ms/step - accuracy: 0.2054 - loss: 3.3580 - val_accuracy: 0.2213 - val_loss: 3.2626\n",
      "Epoch 13/100\n",
      "\u001b[1m219/219\u001b[0m \u001b[32m━━━━━━━━━━━━━━━━━━━━\u001b[0m\u001b[37m\u001b[0m \u001b[1m1s\u001b[0m 7ms/step - accuracy: 0.2161 - loss: 3.3346 - val_accuracy: 0.2170 - val_loss: 3.2504\n",
      "Epoch 14/100\n",
      "\u001b[1m219/219\u001b[0m \u001b[32m━━━━━━━━━━━━━━━━━━━━\u001b[0m\u001b[37m\u001b[0m \u001b[1m1s\u001b[0m 7ms/step - accuracy: 0.2270 - loss: 3.2845 - val_accuracy: 0.2350 - val_loss: 3.1903\n",
      "Epoch 15/100\n",
      "\u001b[1m219/219\u001b[0m \u001b[32m━━━━━━━━━━━━━━━━━━━━\u001b[0m\u001b[37m\u001b[0m \u001b[1m1s\u001b[0m 7ms/step - accuracy: 0.2280 - loss: 3.2983 - val_accuracy: 0.2333 - val_loss: 3.2005\n",
      "Epoch 16/100\n",
      "\u001b[1m219/219\u001b[0m \u001b[32m━━━━━━━━━━━━━━━━━━━━\u001b[0m\u001b[37m\u001b[0m \u001b[1m2s\u001b[0m 7ms/step - accuracy: 0.2201 - loss: 3.2515 - val_accuracy: 0.2243 - val_loss: 3.2012\n",
      "Epoch 17/100\n",
      "\u001b[1m219/219\u001b[0m \u001b[32m━━━━━━━━━━━━━━━━━━━━\u001b[0m\u001b[37m\u001b[0m \u001b[1m2s\u001b[0m 7ms/step - accuracy: 0.2257 - loss: 3.2471 - val_accuracy: 0.2450 - val_loss: 3.1311\n",
      "Epoch 18/100\n",
      "\u001b[1m219/219\u001b[0m \u001b[32m━━━━━━━━━━━━━━━━━━━━\u001b[0m\u001b[37m\u001b[0m \u001b[1m2s\u001b[0m 7ms/step - accuracy: 0.2305 - loss: 3.2311 - val_accuracy: 0.2423 - val_loss: 3.1423\n",
      "Epoch 19/100\n",
      "\u001b[1m219/219\u001b[0m \u001b[32m━━━━━━━━━━━━━━━━━━━━\u001b[0m\u001b[37m\u001b[0m \u001b[1m2s\u001b[0m 7ms/step - accuracy: 0.2330 - loss: 3.1981 - val_accuracy: 0.2567 - val_loss: 3.0971\n",
      "Epoch 20/100\n",
      "\u001b[1m219/219\u001b[0m \u001b[32m━━━━━━━━━━━━━━━━━━━━\u001b[0m\u001b[37m\u001b[0m \u001b[1m2s\u001b[0m 8ms/step - accuracy: 0.2313 - loss: 3.1845 - val_accuracy: 0.2473 - val_loss: 3.0981\n",
      "Epoch 21/100\n",
      "\u001b[1m219/219\u001b[0m \u001b[32m━━━━━━━━━━━━━━━━━━━━\u001b[0m\u001b[37m\u001b[0m \u001b[1m2s\u001b[0m 7ms/step - accuracy: 0.2478 - loss: 3.1472 - val_accuracy: 0.2593 - val_loss: 3.0687\n",
      "Epoch 22/100\n",
      "\u001b[1m219/219\u001b[0m \u001b[32m━━━━━━━━━━━━━━━━━━━━\u001b[0m\u001b[37m\u001b[0m \u001b[1m2s\u001b[0m 7ms/step - accuracy: 0.2515 - loss: 3.1330 - val_accuracy: 0.2500 - val_loss: 3.0688\n",
      "Epoch 23/100\n",
      "\u001b[1m219/219\u001b[0m \u001b[32m━━━━━━━━━━━━━━━━━━━━\u001b[0m\u001b[37m\u001b[0m \u001b[1m2s\u001b[0m 7ms/step - accuracy: 0.2529 - loss: 3.0973 - val_accuracy: 0.2640 - val_loss: 3.0246\n",
      "Epoch 24/100\n",
      "\u001b[1m219/219\u001b[0m \u001b[32m━━━━━━━━━━━━━━━━━━━━\u001b[0m\u001b[37m\u001b[0m \u001b[1m2s\u001b[0m 7ms/step - accuracy: 0.2534 - loss: 3.0885 - val_accuracy: 0.2593 - val_loss: 3.0146\n",
      "Epoch 25/100\n",
      "\u001b[1m219/219\u001b[0m \u001b[32m━━━━━━━━━━━━━━━━━━━━\u001b[0m\u001b[37m\u001b[0m \u001b[1m2s\u001b[0m 7ms/step - accuracy: 0.2616 - loss: 3.0318 - val_accuracy: 0.2727 - val_loss: 2.9858\n",
      "Epoch 26/100\n",
      "\u001b[1m219/219\u001b[0m \u001b[32m━━━━━━━━━━━━━━━━━━━━\u001b[0m\u001b[37m\u001b[0m \u001b[1m2s\u001b[0m 7ms/step - accuracy: 0.2588 - loss: 3.0255 - val_accuracy: 0.2764 - val_loss: 2.9516\n",
      "Epoch 27/100\n",
      "\u001b[1m219/219\u001b[0m \u001b[32m━━━━━━━━━━━━━━━━━━━━\u001b[0m\u001b[37m\u001b[0m \u001b[1m2s\u001b[0m 8ms/step - accuracy: 0.2696 - loss: 2.9982 - val_accuracy: 0.2650 - val_loss: 2.9533\n",
      "Epoch 28/100\n",
      "\u001b[1m219/219\u001b[0m \u001b[32m━━━━━━━━━━━━━━━━━━━━\u001b[0m\u001b[37m\u001b[0m \u001b[1m2s\u001b[0m 8ms/step - accuracy: 0.2759 - loss: 2.9679 - val_accuracy: 0.2994 - val_loss: 2.8976\n",
      "Epoch 29/100\n",
      "\u001b[1m219/219\u001b[0m \u001b[32m━━━━━━━━━━━━━━━━━━━━\u001b[0m\u001b[37m\u001b[0m \u001b[1m2s\u001b[0m 8ms/step - accuracy: 0.2829 - loss: 2.9195 - val_accuracy: 0.3027 - val_loss: 2.8765\n",
      "Epoch 30/100\n",
      "\u001b[1m219/219\u001b[0m \u001b[32m━━━━━━━━━━━━━━━━━━━━\u001b[0m\u001b[37m\u001b[0m \u001b[1m2s\u001b[0m 8ms/step - accuracy: 0.2911 - loss: 2.9076 - val_accuracy: 0.3071 - val_loss: 2.8416\n",
      "Epoch 31/100\n",
      "\u001b[1m219/219\u001b[0m \u001b[32m━━━━━━━━━━━━━━━━━━━━\u001b[0m\u001b[37m\u001b[0m \u001b[1m2s\u001b[0m 8ms/step - accuracy: 0.2904 - loss: 2.8660 - val_accuracy: 0.3024 - val_loss: 2.8209\n",
      "Epoch 32/100\n",
      "\u001b[1m219/219\u001b[0m \u001b[32m━━━━━━━━━━━━━━━━━━━━\u001b[0m\u001b[37m\u001b[0m \u001b[1m2s\u001b[0m 8ms/step - accuracy: 0.2982 - loss: 2.8457 - val_accuracy: 0.3034 - val_loss: 2.7970\n",
      "Epoch 33/100\n",
      "\u001b[1m219/219\u001b[0m \u001b[32m━━━━━━━━━━━━━━━━━━━━\u001b[0m\u001b[37m\u001b[0m \u001b[1m2s\u001b[0m 8ms/step - accuracy: 0.2844 - loss: 2.8209 - val_accuracy: 0.3014 - val_loss: 2.7775\n",
      "Epoch 34/100\n",
      "\u001b[1m219/219\u001b[0m \u001b[32m━━━━━━━━━━━━━━━━━━━━\u001b[0m\u001b[37m\u001b[0m \u001b[1m2s\u001b[0m 8ms/step - accuracy: 0.2903 - loss: 2.7958 - val_accuracy: 0.3204 - val_loss: 2.7279\n",
      "Epoch 35/100\n",
      "\u001b[1m219/219\u001b[0m \u001b[32m━━━━━━━━━━━━━━━━━━━━\u001b[0m\u001b[37m\u001b[0m \u001b[1m2s\u001b[0m 8ms/step - accuracy: 0.3092 - loss: 2.7506 - val_accuracy: 0.3161 - val_loss: 2.7161\n",
      "Epoch 36/100\n",
      "\u001b[1m219/219\u001b[0m \u001b[32m━━━━━━━━━━━━━━━━━━━━\u001b[0m\u001b[37m\u001b[0m \u001b[1m2s\u001b[0m 8ms/step - accuracy: 0.3172 - loss: 2.7111 - val_accuracy: 0.3224 - val_loss: 2.6899\n",
      "Epoch 37/100\n",
      "\u001b[1m219/219\u001b[0m \u001b[32m━━━━━━━━━━━━━━━━━━━━\u001b[0m\u001b[37m\u001b[0m \u001b[1m2s\u001b[0m 8ms/step - accuracy: 0.3317 - loss: 2.6692 - val_accuracy: 0.3354 - val_loss: 2.6420\n",
      "Epoch 38/100\n",
      "\u001b[1m219/219\u001b[0m \u001b[32m━━━━━━━━━━━━━━━━━━━━\u001b[0m\u001b[37m\u001b[0m \u001b[1m2s\u001b[0m 8ms/step - accuracy: 0.3201 - loss: 2.6426 - val_accuracy: 0.3405 - val_loss: 2.6137\n",
      "Epoch 39/100\n",
      "\u001b[1m219/219\u001b[0m \u001b[32m━━━━━━━━━━━━━━━━━━━━\u001b[0m\u001b[37m\u001b[0m \u001b[1m2s\u001b[0m 8ms/step - accuracy: 0.3392 - loss: 2.6089 - val_accuracy: 0.3858 - val_loss: 2.4461\n",
      "Epoch 40/100\n",
      "\u001b[1m219/219\u001b[0m \u001b[32m━━━━━━━━━━━━━━━━━━━━\u001b[0m\u001b[37m\u001b[0m \u001b[1m2s\u001b[0m 8ms/step - accuracy: 0.3392 - loss: 2.5796 - val_accuracy: 0.4186 - val_loss: 2.4225\n",
      "Epoch 41/100\n",
      "\u001b[1m219/219\u001b[0m \u001b[32m━━━━━━━━━━━━━━━━━━━━\u001b[0m\u001b[37m\u001b[0m \u001b[1m2s\u001b[0m 8ms/step - accuracy: 0.3548 - loss: 2.5354 - val_accuracy: 0.4266 - val_loss: 2.4053\n",
      "Epoch 42/100\n",
      "\u001b[1m219/219\u001b[0m \u001b[32m━━━━━━━━━━━━━━━━━━━━\u001b[0m\u001b[37m\u001b[0m \u001b[1m2s\u001b[0m 8ms/step - accuracy: 0.3766 - loss: 2.4244 - val_accuracy: 0.4049 - val_loss: 2.3223\n",
      "Epoch 43/100\n",
      "\u001b[1m219/219\u001b[0m \u001b[32m━━━━━━━━━━━━━━━━━━━━\u001b[0m\u001b[37m\u001b[0m \u001b[1m2s\u001b[0m 9ms/step - accuracy: 0.3780 - loss: 2.4304 - val_accuracy: 0.4416 - val_loss: 2.3109\n",
      "Epoch 44/100\n",
      "\u001b[1m219/219\u001b[0m \u001b[32m━━━━━━━━━━━━━━━━━━━━\u001b[0m\u001b[37m\u001b[0m \u001b[1m2s\u001b[0m 8ms/step - accuracy: 0.3722 - loss: 2.4008 - val_accuracy: 0.4389 - val_loss: 2.3040\n",
      "Epoch 45/100\n",
      "\u001b[1m219/219\u001b[0m \u001b[32m━━━━━━━━━━━━━━━━━━━━\u001b[0m\u001b[37m\u001b[0m \u001b[1m2s\u001b[0m 8ms/step - accuracy: 0.3824 - loss: 2.3333 - val_accuracy: 0.4309 - val_loss: 2.2442\n",
      "Epoch 46/100\n",
      "\u001b[1m219/219\u001b[0m \u001b[32m━━━━━━━━━━━━━━━━━━━━\u001b[0m\u001b[37m\u001b[0m \u001b[1m2s\u001b[0m 9ms/step - accuracy: 0.4043 - loss: 2.3033 - val_accuracy: 0.4533 - val_loss: 2.2039\n",
      "Epoch 47/100\n",
      "\u001b[1m219/219\u001b[0m \u001b[32m━━━━━━━━━━━━━━━━━━━━\u001b[0m\u001b[37m\u001b[0m \u001b[1m2s\u001b[0m 9ms/step - accuracy: 0.4156 - loss: 2.2695 - val_accuracy: 0.4623 - val_loss: 2.1953\n",
      "Epoch 48/100\n",
      "\u001b[1m219/219\u001b[0m \u001b[32m━━━━━━━━━━━━━━━━━━━━\u001b[0m\u001b[37m\u001b[0m \u001b[1m2s\u001b[0m 9ms/step - accuracy: 0.4138 - loss: 2.2250 - val_accuracy: 0.4499 - val_loss: 2.1691\n",
      "Epoch 49/100\n",
      "\u001b[1m219/219\u001b[0m \u001b[32m━━━━━━━━━━━━━━━━━━━━\u001b[0m\u001b[37m\u001b[0m \u001b[1m2s\u001b[0m 9ms/step - accuracy: 0.4177 - loss: 2.1952 - val_accuracy: 0.4730 - val_loss: 2.1523\n",
      "Epoch 50/100\n",
      "\u001b[1m219/219\u001b[0m \u001b[32m━━━━━━━━━━━━━━━━━━━━\u001b[0m\u001b[37m\u001b[0m \u001b[1m2s\u001b[0m 9ms/step - accuracy: 0.4243 - loss: 2.1596 - val_accuracy: 0.4453 - val_loss: 2.1494\n",
      "Epoch 51/100\n",
      "\u001b[1m219/219\u001b[0m \u001b[32m━━━━━━━━━━━━━━━━━━━━\u001b[0m\u001b[37m\u001b[0m \u001b[1m2s\u001b[0m 9ms/step - accuracy: 0.4256 - loss: 2.1335 - val_accuracy: 0.4723 - val_loss: 2.1129\n",
      "Epoch 52/100\n",
      "\u001b[1m219/219\u001b[0m \u001b[32m━━━━━━━━━━━━━━━━━━━━\u001b[0m\u001b[37m\u001b[0m \u001b[1m2s\u001b[0m 9ms/step - accuracy: 0.4485 - loss: 2.1010 - val_accuracy: 0.4633 - val_loss: 2.0889\n",
      "Epoch 53/100\n",
      "\u001b[1m219/219\u001b[0m \u001b[32m━━━━━━━━━━━━━━━━━━━━\u001b[0m\u001b[37m\u001b[0m \u001b[1m2s\u001b[0m 9ms/step - accuracy: 0.4438 - loss: 2.0604 - val_accuracy: 0.4883 - val_loss: 2.0838\n",
      "Epoch 54/100\n",
      "\u001b[1m219/219\u001b[0m \u001b[32m━━━━━━━━━━━━━━━━━━━━\u001b[0m\u001b[37m\u001b[0m \u001b[1m2s\u001b[0m 9ms/step - accuracy: 0.4492 - loss: 2.0458 - val_accuracy: 0.4947 - val_loss: 2.0582\n",
      "Epoch 55/100\n",
      "\u001b[1m219/219\u001b[0m \u001b[32m━━━━━━━━━━━━━━━━━━━━\u001b[0m\u001b[37m\u001b[0m \u001b[1m2s\u001b[0m 9ms/step - accuracy: 0.4682 - loss: 1.9855 - val_accuracy: 0.4963 - val_loss: 2.0573\n",
      "Epoch 56/100\n",
      "\u001b[1m219/219\u001b[0m \u001b[32m━━━━━━━━━━━━━━━━━━━━\u001b[0m\u001b[37m\u001b[0m \u001b[1m2s\u001b[0m 9ms/step - accuracy: 0.4848 - loss: 1.9562 - val_accuracy: 0.5107 - val_loss: 2.0047\n",
      "Epoch 57/100\n",
      "\u001b[1m219/219\u001b[0m \u001b[32m━━━━━━━━━━━━━━━━━━━━\u001b[0m\u001b[37m\u001b[0m \u001b[1m2s\u001b[0m 9ms/step - accuracy: 0.4686 - loss: 1.9369 - val_accuracy: 0.4957 - val_loss: 1.9970\n",
      "Epoch 58/100\n",
      "\u001b[1m219/219\u001b[0m \u001b[32m━━━━━━━━━━━━━━━━━━━━\u001b[0m\u001b[37m\u001b[0m \u001b[1m2s\u001b[0m 9ms/step - accuracy: 0.4764 - loss: 1.9245 - val_accuracy: 0.5003 - val_loss: 1.9669\n",
      "Epoch 59/100\n",
      "\u001b[1m219/219\u001b[0m \u001b[32m━━━━━━━━━━━━━━━━━━━━\u001b[0m\u001b[37m\u001b[0m \u001b[1m2s\u001b[0m 9ms/step - accuracy: 0.4846 - loss: 1.9013 - val_accuracy: 0.4943 - val_loss: 1.9794\n",
      "Epoch 60/100\n",
      "\u001b[1m219/219\u001b[0m \u001b[32m━━━━━━━━━━━━━━━━━━━━\u001b[0m\u001b[37m\u001b[0m \u001b[1m2s\u001b[0m 9ms/step - accuracy: 0.4843 - loss: 1.8576 - val_accuracy: 0.5083 - val_loss: 1.9611\n",
      "Epoch 61/100\n",
      "\u001b[1m219/219\u001b[0m \u001b[32m━━━━━━━━━━━━━━━━━━━━\u001b[0m\u001b[37m\u001b[0m \u001b[1m2s\u001b[0m 9ms/step - accuracy: 0.5004 - loss: 1.8552 - val_accuracy: 0.5160 - val_loss: 1.9366\n",
      "Epoch 62/100\n",
      "\u001b[1m219/219\u001b[0m \u001b[32m━━━━━━━━━━━━━━━━━━━━\u001b[0m\u001b[37m\u001b[0m \u001b[1m2s\u001b[0m 9ms/step - accuracy: 0.5192 - loss: 1.7883 - val_accuracy: 0.5097 - val_loss: 1.9549\n",
      "Epoch 63/100\n",
      "\u001b[1m219/219\u001b[0m \u001b[32m━━━━━━━━━━━━━━━━━━━━\u001b[0m\u001b[37m\u001b[0m \u001b[1m2s\u001b[0m 9ms/step - accuracy: 0.5223 - loss: 1.7674 - val_accuracy: 0.5137 - val_loss: 1.9315\n",
      "Epoch 64/100\n",
      "\u001b[1m219/219\u001b[0m \u001b[32m━━━━━━━━━━━━━━━━━━━━\u001b[0m\u001b[37m\u001b[0m \u001b[1m2s\u001b[0m 9ms/step - accuracy: 0.5110 - loss: 1.7887 - val_accuracy: 0.5127 - val_loss: 1.8881\n",
      "Epoch 65/100\n",
      "\u001b[1m219/219\u001b[0m \u001b[32m━━━━━━━━━━━━━━━━━━━━\u001b[0m\u001b[37m\u001b[0m \u001b[1m2s\u001b[0m 9ms/step - accuracy: 0.5372 - loss: 1.7145 - val_accuracy: 0.5010 - val_loss: 1.8743\n",
      "Epoch 66/100\n",
      "\u001b[1m219/219\u001b[0m \u001b[32m━━━━━━━━━━━━━━━━━━━━\u001b[0m\u001b[37m\u001b[0m \u001b[1m2s\u001b[0m 9ms/step - accuracy: 0.5350 - loss: 1.7204 - val_accuracy: 0.5177 - val_loss: 1.8745\n",
      "Epoch 67/100\n",
      "\u001b[1m219/219\u001b[0m \u001b[32m━━━━━━━━━━━━━━━━━━━━\u001b[0m\u001b[37m\u001b[0m \u001b[1m2s\u001b[0m 9ms/step - accuracy: 0.5405 - loss: 1.6778 - val_accuracy: 0.5324 - val_loss: 1.9063\n",
      "Epoch 68/100\n",
      "\u001b[1m219/219\u001b[0m \u001b[32m━━━━━━━━━━━━━━━━━━━━\u001b[0m\u001b[37m\u001b[0m \u001b[1m2s\u001b[0m 10ms/step - accuracy: 0.5463 - loss: 1.6725 - val_accuracy: 0.5300 - val_loss: 1.8727\n",
      "Epoch 69/100\n",
      "\u001b[1m219/219\u001b[0m \u001b[32m━━━━━━━━━━━━━━━━━━━━\u001b[0m\u001b[37m\u001b[0m \u001b[1m2s\u001b[0m 9ms/step - accuracy: 0.5463 - loss: 1.6504 - val_accuracy: 0.5194 - val_loss: 1.8385\n",
      "Epoch 70/100\n",
      "\u001b[1m219/219\u001b[0m \u001b[32m━━━━━━━━━━━━━━━━━━━━\u001b[0m\u001b[37m\u001b[0m \u001b[1m2s\u001b[0m 9ms/step - accuracy: 0.5532 - loss: 1.6258 - val_accuracy: 0.5350 - val_loss: 1.8470\n",
      "Epoch 71/100\n",
      "\u001b[1m219/219\u001b[0m \u001b[32m━━━━━━━━━━━━━━━━━━━━\u001b[0m\u001b[37m\u001b[0m \u001b[1m2s\u001b[0m 9ms/step - accuracy: 0.5519 - loss: 1.6044 - val_accuracy: 0.5287 - val_loss: 1.8222\n",
      "Epoch 72/100\n",
      "\u001b[1m219/219\u001b[0m \u001b[32m━━━━━━━━━━━━━━━━━━━━\u001b[0m\u001b[37m\u001b[0m \u001b[1m2s\u001b[0m 10ms/step - accuracy: 0.5770 - loss: 1.5801 - val_accuracy: 0.5431 - val_loss: 1.8056\n",
      "Epoch 73/100\n",
      "\u001b[1m219/219\u001b[0m \u001b[32m━━━━━━━━━━━━━━━━━━━━\u001b[0m\u001b[37m\u001b[0m \u001b[1m2s\u001b[0m 9ms/step - accuracy: 0.5939 - loss: 1.5093 - val_accuracy: 0.5260 - val_loss: 1.8259\n",
      "Epoch 74/100\n",
      "\u001b[1m219/219\u001b[0m \u001b[32m━━━━━━━━━━━━━━━━━━━━\u001b[0m\u001b[37m\u001b[0m \u001b[1m2s\u001b[0m 10ms/step - accuracy: 0.5709 - loss: 1.5324 - val_accuracy: 0.5467 - val_loss: 1.8381\n",
      "Epoch 75/100\n",
      "\u001b[1m219/219\u001b[0m \u001b[32m━━━━━━━━━━━━━━━━━━━━\u001b[0m\u001b[37m\u001b[0m \u001b[1m2s\u001b[0m 9ms/step - accuracy: 0.5817 - loss: 1.5315 - val_accuracy: 0.5320 - val_loss: 1.8351\n",
      "Epoch 76/100\n",
      "\u001b[1m219/219\u001b[0m \u001b[32m━━━━━━━━━━━━━━━━━━━━\u001b[0m\u001b[37m\u001b[0m \u001b[1m2s\u001b[0m 9ms/step - accuracy: 0.5856 - loss: 1.5113 - val_accuracy: 0.5367 - val_loss: 1.8241\n",
      "Epoch 77/100\n",
      "\u001b[1m219/219\u001b[0m \u001b[32m━━━━━━━━━━━━━━━━━━━━\u001b[0m\u001b[37m\u001b[0m \u001b[1m2s\u001b[0m 10ms/step - accuracy: 0.5899 - loss: 1.4852 - val_accuracy: 0.5437 - val_loss: 1.8354\n",
      "Epoch 78/100\n",
      "\u001b[1m219/219\u001b[0m \u001b[32m━━━━━━━━━━━━━━━━━━━━\u001b[0m\u001b[37m\u001b[0m \u001b[1m2s\u001b[0m 10ms/step - accuracy: 0.6037 - loss: 1.4691 - val_accuracy: 0.5381 - val_loss: 1.7819\n",
      "Epoch 79/100\n",
      "\u001b[1m219/219\u001b[0m \u001b[32m━━━━━━━━━━━━━━━━━━━━\u001b[0m\u001b[37m\u001b[0m \u001b[1m2s\u001b[0m 9ms/step - accuracy: 0.6123 - loss: 1.4429 - val_accuracy: 0.5564 - val_loss: 1.7416\n",
      "Epoch 80/100\n",
      "\u001b[1m219/219\u001b[0m \u001b[32m━━━━━━━━━━━━━━━━━━━━\u001b[0m\u001b[37m\u001b[0m \u001b[1m2s\u001b[0m 9ms/step - accuracy: 0.6202 - loss: 1.3936 - val_accuracy: 0.5537 - val_loss: 1.8006\n",
      "Epoch 81/100\n",
      "\u001b[1m219/219\u001b[0m \u001b[32m━━━━━━━━━━━━━━━━━━━━\u001b[0m\u001b[37m\u001b[0m \u001b[1m2s\u001b[0m 9ms/step - accuracy: 0.6095 - loss: 1.4220 - val_accuracy: 0.5597 - val_loss: 1.7541\n",
      "Epoch 82/100\n",
      "\u001b[1m219/219\u001b[0m \u001b[32m━━━━━━━━━━━━━━━━━━━━\u001b[0m\u001b[37m\u001b[0m \u001b[1m2s\u001b[0m 10ms/step - accuracy: 0.6231 - loss: 1.3793 - val_accuracy: 0.5581 - val_loss: 1.7631\n",
      "Epoch 83/100\n",
      "\u001b[1m219/219\u001b[0m \u001b[32m━━━━━━━━━━━━━━━━━━━━\u001b[0m\u001b[37m\u001b[0m \u001b[1m2s\u001b[0m 9ms/step - accuracy: 0.6314 - loss: 1.3676 - val_accuracy: 0.5567 - val_loss: 1.7363\n",
      "Epoch 84/100\n",
      "\u001b[1m219/219\u001b[0m \u001b[32m━━━━━━━━━━━━━━━━━━━━\u001b[0m\u001b[37m\u001b[0m \u001b[1m2s\u001b[0m 9ms/step - accuracy: 0.6381 - loss: 1.3516 - val_accuracy: 0.5594 - val_loss: 1.7568\n",
      "Epoch 85/100\n",
      "\u001b[1m219/219\u001b[0m \u001b[32m━━━━━━━━━━━━━━━━━━━━\u001b[0m\u001b[37m\u001b[0m \u001b[1m2s\u001b[0m 9ms/step - accuracy: 0.6426 - loss: 1.3254 - val_accuracy: 0.5601 - val_loss: 1.7686\n",
      "Epoch 86/100\n",
      "\u001b[1m219/219\u001b[0m \u001b[32m━━━━━━━━━━━━━━━━━━━━\u001b[0m\u001b[37m\u001b[0m \u001b[1m2s\u001b[0m 10ms/step - accuracy: 0.6488 - loss: 1.3169 - val_accuracy: 0.5581 - val_loss: 1.7914\n",
      "Epoch 87/100\n",
      "\u001b[1m219/219\u001b[0m \u001b[32m━━━━━━━━━━━━━━━━━━━━\u001b[0m\u001b[37m\u001b[0m \u001b[1m2s\u001b[0m 10ms/step - accuracy: 0.6590 - loss: 1.2961 - val_accuracy: 0.5691 - val_loss: 1.7214\n",
      "Epoch 88/100\n",
      "\u001b[1m219/219\u001b[0m \u001b[32m━━━━━━━━━━━━━━━━━━━━\u001b[0m\u001b[37m\u001b[0m \u001b[1m2s\u001b[0m 10ms/step - accuracy: 0.6609 - loss: 1.3019 - val_accuracy: 0.5834 - val_loss: 1.7191\n",
      "Epoch 89/100\n",
      "\u001b[1m219/219\u001b[0m \u001b[32m━━━━━━━━━━━━━━━━━━━━\u001b[0m\u001b[37m\u001b[0m \u001b[1m2s\u001b[0m 10ms/step - accuracy: 0.6667 - loss: 1.2900 - val_accuracy: 0.5728 - val_loss: 1.8415\n",
      "Epoch 90/100\n",
      "\u001b[1m219/219\u001b[0m \u001b[32m━━━━━━━━━━━━━━━━━━━━\u001b[0m\u001b[37m\u001b[0m \u001b[1m2s\u001b[0m 10ms/step - accuracy: 0.6635 - loss: 1.2608 - val_accuracy: 0.5778 - val_loss: 1.7104\n",
      "Epoch 91/100\n",
      "\u001b[1m219/219\u001b[0m \u001b[32m━━━━━━━━━━━━━━━━━━━━\u001b[0m\u001b[37m\u001b[0m \u001b[1m2s\u001b[0m 10ms/step - accuracy: 0.6768 - loss: 1.2396 - val_accuracy: 0.5734 - val_loss: 1.7586\n",
      "Epoch 92/100\n",
      "\u001b[1m219/219\u001b[0m \u001b[32m━━━━━━━━━━━━━━━━━━━━\u001b[0m\u001b[37m\u001b[0m \u001b[1m2s\u001b[0m 10ms/step - accuracy: 0.6751 - loss: 1.2486 - val_accuracy: 0.5824 - val_loss: 1.7148\n",
      "Epoch 93/100\n",
      "\u001b[1m219/219\u001b[0m \u001b[32m━━━━━━━━━━━━━━━━━━━━\u001b[0m\u001b[37m\u001b[0m \u001b[1m2s\u001b[0m 10ms/step - accuracy: 0.6601 - loss: 1.2429 - val_accuracy: 0.5768 - val_loss: 1.7360\n",
      "Epoch 94/100\n",
      "\u001b[1m219/219\u001b[0m \u001b[32m━━━━━━━━━━━━━━━━━━━━\u001b[0m\u001b[37m\u001b[0m \u001b[1m2s\u001b[0m 10ms/step - accuracy: 0.6755 - loss: 1.2343 - val_accuracy: 0.5681 - val_loss: 1.7204\n",
      "Epoch 95/100\n",
      "\u001b[1m219/219\u001b[0m \u001b[32m━━━━━━━━━━━━━━━━━━━━\u001b[0m\u001b[37m\u001b[0m \u001b[1m2s\u001b[0m 10ms/step - accuracy: 0.6876 - loss: 1.2074 - val_accuracy: 0.5854 - val_loss: 1.7424\n",
      "Epoch 96/100\n",
      "\u001b[1m219/219\u001b[0m \u001b[32m━━━━━━━━━━━━━━━━━━━━\u001b[0m\u001b[37m\u001b[0m \u001b[1m2s\u001b[0m 10ms/step - accuracy: 0.6769 - loss: 1.1980 - val_accuracy: 0.5768 - val_loss: 1.7316\n",
      "Epoch 97/100\n",
      "\u001b[1m219/219\u001b[0m \u001b[32m━━━━━━━━━━━━━━━━━━━━\u001b[0m\u001b[37m\u001b[0m \u001b[1m2s\u001b[0m 10ms/step - accuracy: 0.6987 - loss: 1.1550 - val_accuracy: 0.5768 - val_loss: 1.7042\n",
      "Epoch 98/100\n",
      "\u001b[1m219/219\u001b[0m \u001b[32m━━━━━━━━━━━━━━━━━━━━\u001b[0m\u001b[37m\u001b[0m \u001b[1m2s\u001b[0m 10ms/step - accuracy: 0.7001 - loss: 1.1752 - val_accuracy: 0.5951 - val_loss: 1.7052\n",
      "Epoch 99/100\n",
      "\u001b[1m219/219\u001b[0m \u001b[32m━━━━━━━━━━━━━━━━━━━━\u001b[0m\u001b[37m\u001b[0m \u001b[1m2s\u001b[0m 10ms/step - accuracy: 0.7064 - loss: 1.1150 - val_accuracy: 0.5985 - val_loss: 1.7236\n",
      "Epoch 100/100\n",
      "\u001b[1m219/219\u001b[0m \u001b[32m━━━━━━━━━━━━━━━━━━━━\u001b[0m\u001b[37m\u001b[0m \u001b[1m2s\u001b[0m 10ms/step - accuracy: 0.7064 - loss: 1.1136 - val_accuracy: 0.5864 - val_loss: 1.6865\n"
     ]
    }
   ],
   "source": [
    "history = model.fit(X_train, y_train, validation_data=(X_test, y_test), batch_size=32, epochs=100)"
   ]
  },
  {
   "cell_type": "markdown",
   "metadata": {},
   "source": [
    "#### Visualize Accuracy and Loss"
   ]
  },
  {
   "cell_type": "code",
   "execution_count": 9,
   "metadata": {},
   "outputs": [],
   "source": [
    "def plot_history(history):\n",
    "    fig, axs = plt.subplots(2)\n",
    "\n",
    "    # create accuracy subplot\n",
    "    axs[0].plot(history.history[\"accuracy\"], label=\"Train Accuracy\")\n",
    "    axs[0].plot(history.history[\"val_accuracy\"], label=\"Test Accuracy\")\n",
    "    axs[0].set_ylabel(\"Accuracy\")\n",
    "    axs[0].legend(loc=\"lower right\")\n",
    "    axs[0].set_title(\"Accuracy Evaluation\")\n",
    "\n",
    "    # create error subplot\n",
    "    axs[1].plot(history.history[\"loss\"], label=\"Train Error\")\n",
    "    axs[1].plot(history.history[\"val_loss\"], label=\"Test Error\")\n",
    "    axs[1].set_xlabel(\"Epoch\")\n",
    "    axs[1].set_ylabel(\"Error\")\n",
    "    axs[1].legend(loc=\"upper right\")\n",
    "    axs[1].set_title(\"Error Evaluation\")\n",
    "\n",
    "    plt.tight_layout()\n",
    "    \n",
    "    plt.show()"
   ]
  },
  {
   "cell_type": "code",
   "execution_count": 10,
   "metadata": {},
   "outputs": [
    {
     "data": {
      "image/png": "[encoded data removed]",
      "text/plain": [
       "<Figure size 640x480 with 2 Axes>"
      ]
     },
     "metadata": {},
     "output_type": "display_data"
    }
   ],
   "source": [
    "plot_history(history)"
   ]
  },
  {
   "cell_type": "markdown",
   "metadata": {},
   "source": [
    "#### Address Overfitting\n",
    "Some techniques that can be used to address overfitting:\n",
    "- Use simpler model architecture\n",
    "- Audio data augmentation (artificially increase # of training samples and/or apply transformations to audio files such as pitch shifting, time stretching, adding background noise, etc.)\n",
    "- Early stopping in training\n",
    "- Dropout (randomly drop neurons during training, typically using values for probability of dropout ranging from 0.1 to 0.5)\n",
    "- Regularization (add penalty to error function, punish large weights using either L1 or L2 regularization. For most audio ML tasks, L2 is better.)\n",
    "\n",
    "Initially, the model did not use dropout or regularization techniques. After 50 epochs, the test and training accuracy and loss were: <br>\n",
    "accuracy: 0.9575 - loss: 0.1290 - val_accuracy: 0.5838 - val_loss: 2.5119\n",
    "\n",
    "Next, dropout and regularization was added and the values were <br>\n",
    "accuracy: 0.3631 - loss: 2.3249 - val_accuracy: 0.3635 - val_loss: 2.3709\n",
    "\n",
    "Due to the shape of the performance evaluation graphs, the number of epochs was increased to 100. The evaluation metrics were: <br>\n",
    "accuracy: 0.6813 - loss: 1.1724 - val_accuracy: 0.5898 - val_loss: 1.7696\n",
    "\n",
    "Based on the shape of the evaluation plot, it appears that not much improvent on the test set is gained after about 70 epochs. Around 70 epochs is also where the model begins to overfit. At 70 epochs, the evaluation metrics were: <br>\n",
    "accuracy: 0.5430 - loss: 1.6714 - val_accuracy: 0.5350 - val_loss: 1.8201\n",
    "\n",
    "Note: Each time the code is re-run, the evaluation metrics may vary due to the random dropout.\n",
    "\n",
    "Adding dropout and regularization and adjusting the number of epochs addresses overfitting, however execution is slow and performance still is not great. Next, a Convolutional Neural Network will be built and performance with the tradional neural network will be compared to the Convolutional Neural Network. Additionally, a validation set will be used in addition to a training and test set in order to obtain a more accurate evaluation of model performance."
   ]
  },
  {
   "cell_type": "markdown",
   "metadata": {},
   "source": [
    "### Build a Convolutional Neural Network"
   ]
  },
  {
   "cell_type": "markdown",
   "metadata": {},
   "source": [
    "#### Define Function to Prepare Training, Validation, and Testing Datasets"
   ]
  },
  {
   "cell_type": "code",
   "execution_count": 11,
   "metadata": {},
   "outputs": [],
   "source": [
    "def prepare_datasets(X, y, test_size=0.25, validation_size=0.2):\n",
    "    # create train/test split\n",
    "    X_train, X_test, y_train, y_test = train_test_split(X, y, test_size=test_size, random_state=1234)\n",
    "\n",
    "    # create train/validation split\n",
    "    X_train, X_validation, y_train, y_validation = train_test_split(X_train, y_train, test_size=validation_size, random_state=1234)\n",
    "\n",
    "    # reshape 3d array to 4d array: (num_samples, 130, 13) -> (num_samples, 130, 13, 1)\n",
    "    X_train = X_train[..., np.newaxis]\n",
    "    X_validation = X_validation[..., np.newaxis]\n",
    "    X_test = X_test[..., np.newaxis]\n",
    "\n",
    "    return X_train, X_validation, X_test, y_train, y_validation, y_test"
   ]
  },
  {
   "cell_type": "markdown",
   "metadata": {},
   "source": [
    "#### Define Function to Build the CNN Model"
   ]
  },
  {
   "cell_type": "code",
   "execution_count": 12,
   "metadata": {},
   "outputs": [],
   "source": [
    "def build_cnn_model(input_shape):\n",
    "    model = keras.Sequential()\n",
    "\n",
    "    # Input layer\n",
    "    model.add(keras.layers.Input(shape=input_shape))\n",
    "    \n",
    "    # 1st convolutional layer\n",
    "    model.add(keras.layers.Conv2D(32, (3,3), activation='relu'))\n",
    "    model.add(keras.layers.MaxPool2D((3,3), strides=(2,2), padding='same'))\n",
    "    model.add(keras.layers.BatchNormalization())\n",
    "\n",
    "    # 2nd convolutional layer\n",
    "    model.add(keras.layers.Conv2D(32, (3,3), activation='relu'))\n",
    "    model.add(keras.layers.MaxPool2D((3,3), strides=(2,2), padding='same'))\n",
    "    model.add(keras.layers.BatchNormalization())\n",
    "\n",
    "    # 3rd convolutional layer\n",
    "    model.add(keras.layers.Conv2D(32, (2,2), activation='relu'))\n",
    "    model.add(keras.layers.MaxPool2D((2,2), strides=(2,2), padding='same'))\n",
    "    model.add(keras.layers.BatchNormalization())\n",
    "\n",
    "    # flatten the output and feed it into dense layer\n",
    "    model.add(keras.layers.Flatten())\n",
    "    model.add(keras.layers.Dense(64, activation='relu'))\n",
    "    model.add(keras.layers.Dropout(0.3))\n",
    "\n",
    "    # output layer\n",
    "    model.add(keras.layers.Dense(10, activation='softmax'))\n",
    "\n",
    "    return model"
   ]
  },
  {
   "cell_type": "markdown",
   "metadata": {},
   "source": [
    "#### Define Function To Make a Prediction For a Particular Example Song"
   ]
  },
  {
   "cell_type": "code",
   "execution_count": 13,
   "metadata": {},
   "outputs": [],
   "source": [
    "def predict(model, X_example, y_example, mapping):\n",
    "\n",
    "    # change shape of X_example from (130, 13, 1) to (1, 130, 13, 1)\n",
    "    X_example = X_example[np.newaxis, ...]    \n",
    "    \n",
    "    prediction = model.predict(X_example)\n",
    "\n",
    "    # prediction is a 2d array of probability values for each label ex: [ [0.1, 0.2, ...] ]\n",
    "    # extract index with max value from 2nd dimension of prediction\n",
    "    predicted_index = np.argmax(prediction, axis=1)\n",
    "\n",
    "    # get predicted and expected mapped genre labels\n",
    "    expected_mapped_genre = mapping[y_example]\n",
    "    predicted_mapped_genre = mapping[predicted_index]\n",
    "\n",
    "    print(f\"Expected index: {y_example}, Predicted index: {predicted_index}\")\n",
    "    print(f\"Expected genre: {expected_mapped_genre}, Predicted genre: {predicted_mapped_genre}\")\n",
    "    "
   ]
  },
  {
   "cell_type": "markdown",
   "metadata": {},
   "source": [
    "#### Create and Examine Training, Validation, and Testing Datasets"
   ]
  },
  {
   "cell_type": "code",
   "execution_count": 14,
   "metadata": {},
   "outputs": [],
   "source": [
    "X_train, X_validation, X_test, y_train, y_validation, y_test = prepare_datasets(X, y, test_size = 0.25, validation_size=0.2)"
   ]
  },
  {
   "cell_type": "code",
   "execution_count": 15,
   "metadata": {},
   "outputs": [
    {
     "name": "stdout",
     "output_type": "stream",
     "text": [
      "X_train -      shape: (5991, 130, 13, 1)\tdatatype: float64\n",
      "y_train -      shape: (5991,)\t\tdatatype: int64\n",
      "X_test  -      shape: (2497, 130, 13, 1)\tdatatype: float64\n",
      "y_test  -      shape: (2497,)\t\tdatatype: int64\n",
      "X_validation - shape: (1498, 130, 13, 1)\tdatatype: float64\n",
      "y_validation - shape: (1498,)\t\tdatatype: int64\n"
     ]
    }
   ],
   "source": [
    "# examine shapes of train, test, and validation datasets\n",
    "\n",
    "print(f\"X_train -      shape: {X_train.shape}\\tdatatype: {X_train.dtype}\")\n",
    "print(f\"y_train -      shape: {y_train.shape}\\t\\tdatatype: {y_train.dtype}\")\n",
    "print(f\"X_test  -      shape: {X_test.shape}\\tdatatype: {X_test.dtype}\")\n",
    "print(f\"y_test  -      shape: {y_test.shape}\\t\\tdatatype: {y_test.dtype}\")\n",
    "print(f\"X_validation - shape: {X_validation.shape}\\tdatatype: {X_validation.dtype}\")\n",
    "print(f\"y_validation - shape: {y_validation.shape}\\t\\tdatatype: {y_validation.dtype}\")"
   ]
  },
  {
   "cell_type": "markdown",
   "metadata": {},
   "source": [
    "#### Build, Compile, Train and Evaluate the CNN model"
   ]
  },
  {
   "cell_type": "code",
   "execution_count": 16,
   "metadata": {},
   "outputs": [
    {
     "name": "stdout",
     "output_type": "stream",
     "text": [
      "Epoch 1/30\n",
      "\u001b[1m188/188\u001b[0m \u001b[32m━━━━━━━━━━━━━━━━━━━━\u001b[0m\u001b[37m\u001b[0m \u001b[1m5s\u001b[0m 19ms/step - accuracy: 0.1813 - loss: 2.6171 - val_accuracy: 0.3498 - val_loss: 1.8404\n",
      "Epoch 2/30\n",
      "\u001b[1m188/188\u001b[0m \u001b[32m━━━━━━━━━━━━━━━━━━━━\u001b[0m\u001b[37m\u001b[0m \u001b[1m4s\u001b[0m 19ms/step - accuracy: 0.3493 - loss: 1.8959 - val_accuracy: 0.4292 - val_loss: 1.6066\n",
      "Epoch 3/30\n",
      "\u001b[1m188/188\u001b[0m \u001b[32m━━━━━━━━━━━━━━━━━━━━\u001b[0m\u001b[37m\u001b[0m \u001b[1m4s\u001b[0m 19ms/step - accuracy: 0.4080 - loss: 1.6771 - val_accuracy: 0.4693 - val_loss: 1.4832\n",
      "Epoch 4/30\n",
      "\u001b[1m188/188\u001b[0m \u001b[32m━━━━━━━━━━━━━━━━━━━━\u001b[0m\u001b[37m\u001b[0m \u001b[1m3s\u001b[0m 17ms/step - accuracy: 0.4577 - loss: 1.5515 - val_accuracy: 0.5033 - val_loss: 1.3976\n",
      "Epoch 5/30\n",
      "\u001b[1m188/188\u001b[0m \u001b[32m━━━━━━━━━━━━━━━━━━━━\u001b[0m\u001b[37m\u001b[0m \u001b[1m3s\u001b[0m 17ms/step - accuracy: 0.4878 - loss: 1.4404 - val_accuracy: 0.5240 - val_loss: 1.3321\n",
      "Epoch 6/30\n",
      "\u001b[1m188/188\u001b[0m \u001b[32m━━━━━━━━━━━━━━━━━━━━\u001b[0m\u001b[37m\u001b[0m \u001b[1m3s\u001b[0m 18ms/step - accuracy: 0.5024 - loss: 1.3873 - val_accuracy: 0.5454 - val_loss: 1.2681\n",
      "Epoch 7/30\n",
      "\u001b[1m188/188\u001b[0m \u001b[32m━━━━━━━━━━━━━━━━━━━━\u001b[0m\u001b[37m\u001b[0m \u001b[1m3s\u001b[0m 17ms/step - accuracy: 0.5352 - loss: 1.2951 - val_accuracy: 0.5714 - val_loss: 1.2072\n",
      "Epoch 8/30\n",
      "\u001b[1m188/188\u001b[0m \u001b[32m━━━━━━━━━━━━━━━━━━━━\u001b[0m\u001b[37m\u001b[0m \u001b[1m3s\u001b[0m 18ms/step - accuracy: 0.5628 - loss: 1.2270 - val_accuracy: 0.5768 - val_loss: 1.1849\n",
      "Epoch 9/30\n",
      "\u001b[1m188/188\u001b[0m \u001b[32m━━━━━━━━━━━━━━━━━━━━\u001b[0m\u001b[37m\u001b[0m \u001b[1m4s\u001b[0m 19ms/step - accuracy: 0.5729 - loss: 1.2121 - val_accuracy: 0.5948 - val_loss: 1.1395\n",
      "Epoch 10/30\n",
      "\u001b[1m188/188\u001b[0m \u001b[32m━━━━━━━━━━━━━━━━━━━━\u001b[0m\u001b[37m\u001b[0m \u001b[1m3s\u001b[0m 18ms/step - accuracy: 0.5873 - loss: 1.1566 - val_accuracy: 0.6061 - val_loss: 1.1131\n",
      "Epoch 11/30\n",
      "\u001b[1m188/188\u001b[0m \u001b[32m━━━━━━━━━━━━━━━━━━━━\u001b[0m\u001b[37m\u001b[0m \u001b[1m3s\u001b[0m 18ms/step - accuracy: 0.5926 - loss: 1.1216 - val_accuracy: 0.6021 - val_loss: 1.1215\n",
      "Epoch 12/30\n",
      "\u001b[1m188/188\u001b[0m \u001b[32m━━━━━━━━━━━━━━━━━━━━\u001b[0m\u001b[37m\u001b[0m \u001b[1m4s\u001b[0m 19ms/step - accuracy: 0.6305 - loss: 1.0609 - val_accuracy: 0.6348 - val_loss: 1.0456\n",
      "Epoch 13/30\n",
      "\u001b[1m188/188\u001b[0m \u001b[32m━━━━━━━━━━━━━━━━━━━━\u001b[0m\u001b[37m\u001b[0m \u001b[1m4s\u001b[0m 19ms/step - accuracy: 0.6290 - loss: 1.0586 - val_accuracy: 0.6368 - val_loss: 1.0388\n",
      "Epoch 14/30\n",
      "\u001b[1m188/188\u001b[0m \u001b[32m━━━━━━━━━━━━━━━━━━━━\u001b[0m\u001b[37m\u001b[0m \u001b[1m4s\u001b[0m 19ms/step - accuracy: 0.6453 - loss: 1.0030 - val_accuracy: 0.6482 - val_loss: 1.0147\n",
      "Epoch 15/30\n",
      "\u001b[1m188/188\u001b[0m \u001b[32m━━━━━━━━━━━━━━━━━━━━\u001b[0m\u001b[37m\u001b[0m \u001b[1m4s\u001b[0m 20ms/step - accuracy: 0.6522 - loss: 0.9964 - val_accuracy: 0.6469 - val_loss: 1.0038\n",
      "Epoch 16/30\n",
      "\u001b[1m188/188\u001b[0m \u001b[32m━━━━━━━━━━━━━━━━━━━━\u001b[0m\u001b[37m\u001b[0m \u001b[1m4s\u001b[0m 19ms/step - accuracy: 0.6491 - loss: 1.0023 - val_accuracy: 0.6615 - val_loss: 0.9877\n",
      "Epoch 17/30\n",
      "\u001b[1m188/188\u001b[0m \u001b[32m━━━━━━━━━━━━━━━━━━━━\u001b[0m\u001b[37m\u001b[0m \u001b[1m4s\u001b[0m 20ms/step - accuracy: 0.6630 - loss: 0.9552 - val_accuracy: 0.6549 - val_loss: 0.9873\n",
      "Epoch 18/30\n",
      "\u001b[1m188/188\u001b[0m \u001b[32m━━━━━━━━━━━━━━━━━━━━\u001b[0m\u001b[37m\u001b[0m \u001b[1m4s\u001b[0m 19ms/step - accuracy: 0.6723 - loss: 0.9279 - val_accuracy: 0.6615 - val_loss: 0.9613\n",
      "Epoch 19/30\n",
      "\u001b[1m188/188\u001b[0m \u001b[32m━━━━━━━━━━━━━━━━━━━━\u001b[0m\u001b[37m\u001b[0m \u001b[1m4s\u001b[0m 20ms/step - accuracy: 0.6861 - loss: 0.8859 - val_accuracy: 0.6649 - val_loss: 0.9554\n",
      "Epoch 20/30\n",
      "\u001b[1m188/188\u001b[0m \u001b[32m━━━━━━━━━━━━━━━━━━━━\u001b[0m\u001b[37m\u001b[0m \u001b[1m4s\u001b[0m 20ms/step - accuracy: 0.6957 - loss: 0.8726 - val_accuracy: 0.6696 - val_loss: 0.9555\n",
      "Epoch 21/30\n",
      "\u001b[1m188/188\u001b[0m \u001b[32m━━━━━━━━━━━━━━━━━━━━\u001b[0m\u001b[37m\u001b[0m \u001b[1m4s\u001b[0m 19ms/step - accuracy: 0.6980 - loss: 0.8646 - val_accuracy: 0.6782 - val_loss: 0.9183\n",
      "Epoch 22/30\n",
      "\u001b[1m188/188\u001b[0m \u001b[32m━━━━━━━━━━━━━━━━━━━━\u001b[0m\u001b[37m\u001b[0m \u001b[1m4s\u001b[0m 20ms/step - accuracy: 0.7139 - loss: 0.8394 - val_accuracy: 0.6816 - val_loss: 0.9159\n",
      "Epoch 23/30\n",
      "\u001b[1m188/188\u001b[0m \u001b[32m━━━━━━━━━━━━━━━━━━━━\u001b[0m\u001b[37m\u001b[0m \u001b[1m4s\u001b[0m 20ms/step - accuracy: 0.7098 - loss: 0.8213 - val_accuracy: 0.6802 - val_loss: 0.9050\n",
      "Epoch 24/30\n",
      "\u001b[1m188/188\u001b[0m \u001b[32m━━━━━━━━━━━━━━━━━━━━\u001b[0m\u001b[37m\u001b[0m \u001b[1m4s\u001b[0m 21ms/step - accuracy: 0.7294 - loss: 0.7899 - val_accuracy: 0.6749 - val_loss: 0.9271\n",
      "Epoch 25/30\n",
      "\u001b[1m188/188\u001b[0m \u001b[32m━━━━━━━━━━━━━━━━━━━━\u001b[0m\u001b[37m\u001b[0m \u001b[1m4s\u001b[0m 20ms/step - accuracy: 0.7292 - loss: 0.7718 - val_accuracy: 0.6963 - val_loss: 0.8855\n",
      "Epoch 26/30\n",
      "\u001b[1m188/188\u001b[0m \u001b[32m━━━━━━━━━━━━━━━━━━━━\u001b[0m\u001b[37m\u001b[0m \u001b[1m4s\u001b[0m 20ms/step - accuracy: 0.7449 - loss: 0.7510 - val_accuracy: 0.6949 - val_loss: 0.8944\n",
      "Epoch 27/30\n",
      "\u001b[1m188/188\u001b[0m \u001b[32m━━━━━━━━━━━━━━━━━━━━\u001b[0m\u001b[37m\u001b[0m \u001b[1m4s\u001b[0m 21ms/step - accuracy: 0.7271 - loss: 0.7764 - val_accuracy: 0.6816 - val_loss: 0.9262\n",
      "Epoch 28/30\n",
      "\u001b[1m188/188\u001b[0m \u001b[32m━━━━━━━━━━━━━━━━━━━━\u001b[0m\u001b[37m\u001b[0m \u001b[1m4s\u001b[0m 21ms/step - accuracy: 0.7419 - loss: 0.7569 - val_accuracy: 0.6689 - val_loss: 0.9388\n",
      "Epoch 29/30\n",
      "\u001b[1m188/188\u001b[0m \u001b[32m━━━━━━━━━━━━━━━━━━━━\u001b[0m\u001b[37m\u001b[0m \u001b[1m4s\u001b[0m 21ms/step - accuracy: 0.7409 - loss: 0.7347 - val_accuracy: 0.6889 - val_loss: 0.9001\n",
      "Epoch 30/30\n",
      "\u001b[1m188/188\u001b[0m \u001b[32m━━━━━━━━━━━━━━━━━━━━\u001b[0m\u001b[37m\u001b[0m \u001b[1m4s\u001b[0m 21ms/step - accuracy: 0.7616 - loss: 0.6886 - val_accuracy: 0.7056 - val_loss: 0.8673\n",
      "\u001b[1m79/79\u001b[0m \u001b[32m━━━━━━━━━━━━━━━━━━━━\u001b[0m\u001b[37m\u001b[0m \u001b[1m0s\u001b[0m 6ms/step - accuracy: 0.7152 - loss: 0.8040\n",
      "Accuracy on test set: 0.726071298122406\n"
     ]
    }
   ],
   "source": [
    "# build the CNN model\n",
    "input_shape = (X_train.shape[1], X_train.shape[2], X_train.shape[3])\n",
    "cnn_model = build_cnn_model(input_shape)\n",
    "\n",
    "# compile the CNN model\n",
    "optimizer = keras.optimizers.Adam(learning_rate=0.0001)\n",
    "cnn_model.compile(optimizer=optimizer, loss=\"sparse_categorical_crossentropy\", metrics=['accuracy'])\n",
    "\n",
    "# train the CNN model\n",
    "cnn_history = cnn_model.fit(X_train, y_train, validation_data=(X_validation, y_validation), batch_size=32, epochs=30)\n",
    "\n",
    "# evaluate the CNN model on the test set\n",
    "test_error, test_accuracy = cnn_model.evaluate(X_test, y_test, verbose=1)\n",
    "print(f\"Accuracy on test set: {test_accuracy}\")"
   ]
  },
  {
   "cell_type": "code",
   "execution_count": 17,
   "metadata": {},
   "outputs": [
    {
     "data": {
      "image/png": "[encoded data removed]",
      "text/plain": [
       "<Figure size 640x480 with 2 Axes>"
      ]
     },
     "metadata": {},
     "output_type": "display_data"
    }
   ],
   "source": [
    "plot_history(cnn_history)"
   ]
  },
  {
   "cell_type": "markdown",
   "metadata": {},
   "source": [
    "#### Make Predictions on Specific Sample Songs"
   ]
  },
  {
   "cell_type": "code",
   "execution_count": 18,
   "metadata": {},
   "outputs": [
    {
     "name": "stdout",
     "output_type": "stream",
     "text": [
      "\u001b[1m1/1\u001b[0m \u001b[32m━━━━━━━━━━━━━━━━━━━━\u001b[0m\u001b[37m\u001b[0m \u001b[1m0s\u001b[0m 26ms/step\n",
      "Expected index: 5, Predicted index: [5]\n",
      "Expected genre: classical, Predicted genre: ['classical']\n",
      "\u001b[1m1/1\u001b[0m \u001b[32m━━━━━━━━━━━━━━━━━━━━\u001b[0m\u001b[37m\u001b[0m \u001b[1m0s\u001b[0m 9ms/step\n",
      "Expected index: 5, Predicted index: [5]\n",
      "Expected genre: classical, Predicted genre: ['classical']\n",
      "\u001b[1m1/1\u001b[0m \u001b[32m━━━━━━━━━━━━━━━━━━━━\u001b[0m\u001b[37m\u001b[0m \u001b[1m0s\u001b[0m 9ms/step\n",
      "Expected index: 9, Predicted index: [9]\n",
      "Expected genre: jazz, Predicted genre: ['jazz']\n",
      "\u001b[1m1/1\u001b[0m \u001b[32m━━━━━━━━━━━━━━━━━━━━\u001b[0m\u001b[37m\u001b[0m \u001b[1m0s\u001b[0m 9ms/step\n",
      "Expected index: 4, Predicted index: [4]\n",
      "Expected genre: reggae, Predicted genre: ['reggae']\n",
      "\u001b[1m1/1\u001b[0m \u001b[32m━━━━━━━━━━━━━━━━━━━━\u001b[0m\u001b[37m\u001b[0m \u001b[1m0s\u001b[0m 9ms/step\n",
      "Expected index: 4, Predicted index: [4]\n",
      "Expected genre: reggae, Predicted genre: ['reggae']\n"
     ]
    }
   ],
   "source": [
    "# first sample song prediction\n",
    "X_sample1 = X_test[100]\n",
    "y_sample1 = y_test[100]\n",
    "\n",
    "predict(model, X_sample1, y_sample1, mapping)\n",
    "\n",
    "# second sample song prediction\n",
    "X_sample2 = X_test[500]\n",
    "y_sample2 = y_test[500]\n",
    "\n",
    "predict(model, X_sample2, y_sample2, mapping)\n",
    "\n",
    "# third sample song prediction\n",
    "X_sample3 = X_test[1500]\n",
    "y_sample3 = y_test[1500]\n",
    "\n",
    "predict(model, X_sample3, y_sample3, mapping)\n",
    "\n",
    "# forth sample song prediction\n",
    "X_sample4 = X_test[2100]\n",
    "y_sample4 = y_test[2100]\n",
    "\n",
    "predict(model, X_sample4, y_sample4, mapping)\n",
    "\n",
    "# fifth sample song prediction\n",
    "X_sample5 = X_test[2450]\n",
    "y_sample5 = y_test[2450]\n",
    "\n",
    "predict(model, X_sample5, y_sample5, mapping)"
   ]
  },
  {
   "cell_type": "markdown",
   "metadata": {},
   "source": [
    "## Conclusion\n",
    "The Convolutional Neural Network performed better than the Tradional Neural Network for the task of music genre classification with MFCC inputs. Techniques of dropout and regularization were used to address overfitting."
   ]
  }
 ],
 "metadata": {
  "kernelspec": {
   "display_name": "Python BTT (myenv)",
   "language": "python",
   "name": "myenv"
  },
  "language_info": {
   "codemirror_mode": {
    "name": "ipython",
    "version": 3
   },
   "file_extension": ".py",
   "mimetype": "text/x-python",
   "name": "python",
   "nbconvert_exporter": "python",
   "pygments_lexer": "ipython3",
   "version": "3.12.5"
  },
  "toc": {
   "base_numbering": 1,
   "nav_menu": {},
   "number_sections": false,
   "sideBar": true,
   "skip_h1_title": false,
   "title_cell": "Table of Contents",
   "title_sidebar": "Contents",
   "toc_cell": false,
   "toc_position": {},
   "toc_section_display": true,
   "toc_window_display": false
  },
  "varInspector": {
   "cols": {
    "lenName": 16,
    "lenType": 16,
    "lenVar": 40
   },
   "kernels_config": {
    "python": {
     "delete_cmd_postfix": "",
     "delete_cmd_prefix": "del ",
     "library": "var_list.py",
     "varRefreshCmd": "print(var_dic_list())"
    },
    "r": {
     "delete_cmd_postfix": ") ",
     "delete_cmd_prefix": "rm(",
     "library": "var_list.r",
     "varRefreshCmd": "cat(var_dic_list()) "
    }
   },
   "types_to_exclude": [
    "module",
    "function",
    "builtin_function_or_method",
    "instance",
    "_Feature"
   ],
   "window_display": false
  }
 },
 "nbformat": 4,
 "nbformat_minor": 4
}
